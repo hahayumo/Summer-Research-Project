{
 "cells": [
  {
   "cell_type": "code",
   "execution_count": 13,
   "id": "f64b2740",
   "metadata": {},
   "outputs": [
    {
     "ename": "TypeError",
     "evalue": "can only concatenate tuple (not \"int\") to tuple",
     "output_type": "error",
     "traceback": [
      "\u001b[0;31m---------------------------------------------------------------------------\u001b[0m",
      "\u001b[0;31mTypeError\u001b[0m                                 Traceback (most recent call last)",
      "\u001b[0;32m<ipython-input-13-06df6ff803cd>\u001b[0m in \u001b[0;36m<module>\u001b[0;34m\u001b[0m\n\u001b[0;32m----> 1\u001b[0;31m \u001b[0mprint\u001b[0m\u001b[0;34m(\u001b[0m\u001b[0mFloatVector\u001b[0m\u001b[0;34m(\u001b[0m\u001b[0;34m(\u001b[0m\u001b[0;36m2\u001b[0m\u001b[0;34m,\u001b[0m\u001b[0;36m3\u001b[0m\u001b[0;34m,\u001b[0m\u001b[0;36m4\u001b[0m\u001b[0;34m)\u001b[0m\u001b[0;34m+\u001b[0m\u001b[0;36m1\u001b[0m\u001b[0;34m)\u001b[0m\u001b[0;34m)\u001b[0m\u001b[0;34m\u001b[0m\u001b[0;34m\u001b[0m\u001b[0m\n\u001b[0m",
      "\u001b[0;31mTypeError\u001b[0m: can only concatenate tuple (not \"int\") to tuple"
     ]
    }
   ],
   "source": [
    "print(FloatVector((2,3,4)+1))"
   ]
  },
  {
   "cell_type": "code",
   "execution_count": 11,
   "id": "11d2d0a8",
   "metadata": {
    "scrolled": true
   },
   "outputs": [
    {
     "name": "stdout",
     "output_type": "stream",
     "text": [
      "     fun: 0.9999999999999979\n",
      "     jac: array([1.        , 0.99999999])\n",
      " message: 'Optimization terminated successfully'\n",
      "    nfev: 9\n",
      "     nit: 3\n",
      "    njev: 3\n",
      "  status: 0\n",
      " success: True\n",
      "       x: array([1., 0.])\n",
      "[1] 2 3 4\n",
      "\n"
     ]
    }
   ],
   "source": [
    "from scipy.optimize import minimize\n",
    "import os\n",
    "os.environ['R_HOME'] = '/Library/Frameworks/R.framework/Versions/4.1/Resources/'\n",
    "from rpy2.robjects.vectors import FloatVector\n",
    "def loss(params):\n",
    "    \n",
    "    return params[0] + params[1]\n",
    "   \n",
    "\n",
    "def constraint(params):\n",
    "    \n",
    "    return params[0] - params[1] - 1\n",
    "    \n",
    "    \n",
    "cons = ({'type': 'eq',\n",
    "        'fun': constraint})\n",
    "\n",
    "\n",
    "initial0 = [2, 2]\n",
    "\n",
    "\n",
    "res = minimize(loss, initial0, bounds=[(0, None), (0, None)],\n",
    "               constraints=cons)\n",
    "\n",
    "print(res)\n",
    "\n",
    "print(FloatVector((2,3,4)))"
   ]
  },
  {
   "cell_type": "code",
   "execution_count": 3,
   "id": "89adcc37",
   "metadata": {},
   "outputs": [
    {
     "name": "stdout",
     "output_type": "stream",
     "text": [
      "     fun: 0.693147180558239\n",
      "     jac: array([0.99999999, 0.        , 1.        ])\n",
      " message: 'Optimization terminated successfully'\n",
      "    nfev: 41\n",
      "     nit: 10\n",
      "    njev: 10\n",
      "  status: 0\n",
      " success: True\n",
      "       x: array([ 1.00000000e+00, -1.39402937e-06,  3.44596955e-14])\n"
     ]
    }
   ],
   "source": [
    "from scipy.optimize import minimize\n",
    "import math\n",
    "\n",
    "def f(x):\n",
    "    return math.log(x[0]**2 + 1) + x[1]**4 + x[0]*x[2]\n",
    "\n",
    "x0 = [1,1,1]\n",
    "\n",
    "cons=({'type': 'ineq',\n",
    "       'fun': lambda x: x[0]**3 - x[1]**2 - 1},\n",
    "      {'type': 'ineq',\n",
    "       'fun': lambda x: x[0]},\n",
    "      {'type': 'ineq',\n",
    "       'fun': lambda x: x[2]})\n",
    "\n",
    "res = minimize(f, x0, constraints=cons)\n",
    "print(res)"
   ]
  },
  {
   "cell_type": "code",
   "execution_count": null,
   "id": "80d8f251",
   "metadata": {},
   "outputs": [],
   "source": [
    "\n",
    "# def constraint(params):\n",
    "#     print(params)\n",
    "    \n",
    "#     return (params[0])**2 - ((params[1])**2*params[4] + (params[2])**2/params[4])\n",
    "\n",
    "# cons = ({'type': 'ineq',\n",
    "#         'fun': constraint})"
   ]
  },
  {
   "cell_type": "code",
   "execution_count": null,
   "id": "bdc401a5",
   "metadata": {},
   "outputs": [],
   "source": []
  },
  {
   "cell_type": "code",
   "execution_count": null,
   "id": "0b4eb054",
   "metadata": {},
   "outputs": [],
   "source": []
  },
  {
   "cell_type": "code",
   "execution_count": null,
   "id": "1f5cb51c",
   "metadata": {},
   "outputs": [],
   "source": []
  },
  {
   "cell_type": "code",
   "execution_count": null,
   "id": "77906261",
   "metadata": {},
   "outputs": [],
   "source": []
  },
  {
   "cell_type": "code",
   "execution_count": null,
   "id": "26a1ab33",
   "metadata": {},
   "outputs": [],
   "source": []
  },
  {
   "cell_type": "code",
   "execution_count": null,
   "id": "6a1efb37",
   "metadata": {},
   "outputs": [],
   "source": []
  },
  {
   "cell_type": "code",
   "execution_count": null,
   "id": "df2d25da",
   "metadata": {},
   "outputs": [],
   "source": []
  }
 ],
 "metadata": {
  "kernelspec": {
   "display_name": "Python 3",
   "language": "python",
   "name": "python3"
  },
  "language_info": {
   "codemirror_mode": {
    "name": "ipython",
    "version": 3
   },
   "file_extension": ".py",
   "mimetype": "text/x-python",
   "name": "python",
   "nbconvert_exporter": "python",
   "pygments_lexer": "ipython3",
   "version": "3.7.10"
  }
 },
 "nbformat": 4,
 "nbformat_minor": 5
}

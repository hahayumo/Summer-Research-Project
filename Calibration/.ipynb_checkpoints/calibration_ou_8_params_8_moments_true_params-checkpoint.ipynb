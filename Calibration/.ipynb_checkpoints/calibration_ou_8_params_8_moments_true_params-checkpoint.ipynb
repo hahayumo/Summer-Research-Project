{
 "cells": [
  {
   "cell_type": "markdown",
   "id": "b832d715",
   "metadata": {},
   "source": [
    "# Obtain 8 true values of parameters for the Ornstein-Uhlenbeck process by calibrating the model to the real market pair stocks from S&P 500 "
   ]
  },
  {
   "cell_type": "code",
   "execution_count": 1,
   "id": "d8555dab",
   "metadata": {
    "scrolled": true
   },
   "outputs": [],
   "source": [
    "import pandas as pd\n",
    "import numpy as np\n",
    "import random\n",
    "from numpy.random import RandomState\n",
    "from scipy import stats\n",
    "from scipy.optimize import minimize\n",
    "import os\n",
    "os.environ['R_HOME'] = '/Library/Frameworks/R.framework/Versions/4.1/Resources/'\n",
    "import rpy2\n",
    "from rpy2.robjects.packages import importr\n",
    "from rpy2.robjects.packages import SignatureTranslatedAnonymousPackage\n",
    "import datetime\n",
    "from rpy2.robjects.vectors import FloatVector"
   ]
  },
  {
   "cell_type": "markdown",
   "id": "dfaab545",
   "metadata": {},
   "source": [
    "Define the model that generates pair simulations."
   ]
  },
  {
   "cell_type": "code",
   "execution_count": 2,
   "id": "58c7a960",
   "metadata": {},
   "outputs": [],
   "source": [
    "np.random.seed(9868)\n",
    "yuima = importr(\"yuima\")\n",
    "n_ou_sim_string = \"\"\"\n",
    "n_sim_ou = function(random_seed, num_sim,\n",
    "                    mu11, mu12, mu21, mu22,\n",
    "                    sigma11, sigma12, sigma21, sigma22,\n",
    "                    xinit, T0, T, length){\n",
    "  \n",
    "  set.seed(random_seed)\n",
    "  \n",
    "  drift = c(\"mu11-mu12*X1\", \"mu21-mu22*X2\")\n",
    "  diffusion = matrix(c(\"exp(sigma11)\", \"exp(sigma12)\", \"exp(sigma21)\", \"exp(sigma22)\"), 2, 2, byrow=TRUE)\n",
    "  ou_model = setModel(drift=drift, diffusion=diffusion, \n",
    "                        time.variable = \"t\",\n",
    "                        state.var=c(\"X1\",\"X2\"), solve.variable=c(\"X1\",\"X2\"))\n",
    "  \n",
    "  newsamp = setSampling(Initial=T0, Terminal=T, n=length)\n",
    "  \n",
    "  n_sim_ou_data = data.frame(matrix(nrow=length+1, ncol=2*num_sim))\n",
    "  for (i in 1:num_sim){\n",
    "    ou_sim = simulate(ou_model, \n",
    "                      true.par=list(\n",
    "                        mu11=mu11, mu12=mu12, mu21=mu21, mu22=mu22, \n",
    "                        sigma11=sigma11, sigma12=sigma12, sigma21=sigma21, sigma22=sigma22), \n",
    "                      xinit=xinit, sampling=newsamp)\n",
    "    original_data = ou_sim@data@original.data\n",
    "    one_sim_ou = data.frame(original_data[,1], original_data[,2])\n",
    "    colnames(one_sim_ou) = c('series1', 'series2')\n",
    "    n_sim_ou_data[, (2*i-1):(2*i)] = one_sim_ou\n",
    "  }\n",
    "  return(n_sim_ou_data)\n",
    "}\n",
    "\"\"\"\n",
    "\n",
    "n_ou_sim = SignatureTranslatedAnonymousPackage(n_ou_sim_string, \"n_ou_sim\")\n",
    "def n_ou_simulation(random_seed, num_sim,\n",
    "                    mu11, mu12, mu21, mu22, sigma11, sigma12, sigma21, sigma22,\n",
    "                    xinit, T0, T, length):\n",
    "    \"\"\"num_sim simulations of bivariate Ornstein-Uhlenbeck process,\n",
    "    length = length of one series\n",
    "    \"\"\"\n",
    "    n_ou_sim_data = pd.DataFrame(\n",
    "        n_ou_sim.n_sim_ou(random_seed=random_seed, num_sim=num_sim,\n",
    "                              mu11=mu11, mu12=mu12, mu21=mu21, mu22=mu22,\n",
    "                              sigma11=sigma11, sigma12=sigma12, sigma21=sigma21, sigma22=sigma22,\n",
    "                              xinit=xinit, T0=T0, T=T, length=length)).transpose()\n",
    "    return n_ou_sim_data"
   ]
  },
  {
   "cell_type": "markdown",
   "id": "39b57d97",
   "metadata": {},
   "source": [
    "Define some function that transforms price to return or the reverse."
   ]
  },
  {
   "cell_type": "code",
   "execution_count": 3,
   "id": "93d31763",
   "metadata": {},
   "outputs": [],
   "source": [
    "def price_to_log_price(n_price):\n",
    "    return(np.log(n_price))\n",
    "\n",
    "\n",
    "def log_price_to_price(n_log_price):\n",
    "    return(np.exp(n_log_price))\n",
    "\n",
    "\n",
    "def price_to_return(n_price):\n",
    "    n_return = pd.DataFrame()\n",
    "    for i in range(n_price.shape[1]):\n",
    "        ith_column_price_series = n_price.iloc[:, i]\n",
    "        n_return = pd.concat([n_return, 100 * np.log(ith_column_price_series[1:].values / ith_column_price_series[:-1])], axis=1)\n",
    "    return n_return\n",
    "\n",
    "\n",
    "def log_price_to_return(n_log_price):\n",
    "    n_real_return = pd.DataFrame()\n",
    "    for i in range(n_log_price.shape[1]):\n",
    "        ith_column_price_series = n_log_price.iloc[:, i]\n",
    "        n_real_return = pd.concat([n_real_return, 100 * (ith_column_price_series[1:].values - ith_column_price_series[:-1])], axis=1)\n",
    "    return n_real_return"
   ]
  },
  {
   "cell_type": "markdown",
   "id": "5b0c790a",
   "metadata": {},
   "source": [
    "Define the function of transforming returns data into feature statistics (or moments)."
   ]
  },
  {
   "cell_type": "code",
   "execution_count": 4,
   "id": "b57f7a8e",
   "metadata": {},
   "outputs": [],
   "source": [
    "def cal_stats(n_return, n_price=None):\n",
    "    \"\"\" 8 statistics\n",
    "    'skewness' and 'kurtosis' are of different expressions from the course of 'intro to stat finance') \"\"\"\n",
    "\n",
    "    return_series1 = n_return.iloc[:, ::2]\n",
    "    return_series2 = n_return.iloc[:, 1::2]\n",
    "\n",
    "    mean1 = return_series1.mean(axis=0).values\n",
    "    sd1 = return_series1.std(axis=0).values\n",
    "    skew1 = return_series1.skew(axis=0).values\n",
    "    kurtosis1 = return_series1.kurtosis(axis=0).values\n",
    "\n",
    "    mean2 = return_series2.mean(axis=0).values\n",
    "    sd2 = return_series2.std(axis=0).values\n",
    "    skew2 = return_series2.skew(axis=0).values\n",
    "    kurtosis2 = return_series2.kurtosis(axis=0).values\n",
    "\n",
    "    stats_data = pd.DataFrame([mean1, mean2, sd1, sd2, skew1, skew2, kurtosis1, kurtosis2])\n",
    "    stats_data = stats_data.transpose()\n",
    "    stats_data.columns = [\n",
    "        'return_mean1', 'return_mean2',\n",
    "        'return_sd1', 'return_sd2',\n",
    "        'return_skew1', 'return_skew2',\n",
    "        'return_kurtosis1', 'return_kurtosis2']\n",
    "    return stats_data"
   ]
  },
  {
   "cell_type": "markdown",
   "id": "1d29e0a2",
   "metadata": {},
   "source": [
    "Define the loss function as the sum of the absolute differences between moments of real market return data and simulated return data"
   ]
  },
  {
   "cell_type": "code",
   "execution_count": 5,
   "id": "72e80290",
   "metadata": {},
   "outputs": [],
   "source": [
    "def loss_function(params):\n",
    "    \"\"\"n_real_stats is a global amount calculated outside the function\"\"\"\n",
    "\n",
    "    params = FloatVector(params)\n",
    "    moment_loss = pd.DataFrame().reindex_like(n_real_stats)\n",
    "\n",
    "    randseed = np.random.randint(low=0, high=1000000, size=(1,))\n",
    "\n",
    "    n_sim_log_price = n_ou_simulation(\n",
    "        random_seed=int(randseed), num_sim=num_sim,\n",
    "        mu11=params[0], mu12=params[1], mu21=params[2], mu22=params[3],\n",
    "        sigma11=params[4], sigma12=params[5], sigma21=params[6], sigma22=params[7],\n",
    "        xinit=xinit, T0=T0, T=T, length=length)\n",
    "\n",
    "    n_sim_price = log_price_to_price(n_sim_log_price)\n",
    "    n_sim_return = price_to_return(n_sim_price)\n",
    "    n_sim_stats = cal_stats(n_sim_return)\n",
    "\n",
    "    for i in range(n_real_stats.shape[0]):\n",
    "        for j in range(n_real_stats.shape[1]):\n",
    "            moment_loss.iloc[i, j] = np.sqrt((n_real_stats.iloc[i, j] - n_sim_stats.iloc[i, j])**2)\n",
    "\n",
    "    sum_all = np.sum(moment_loss)\n",
    "    return np.sum(sum_all)"
   ]
  },
  {
   "cell_type": "markdown",
   "id": "d5545dd2",
   "metadata": {},
   "source": [
    "Import the real market pair return data and prepare the corresponding initial log-prices of pair stocks for the following simulation and optimisation work."
   ]
  },
  {
   "cell_type": "code",
   "execution_count": 6,
   "id": "4499072c",
   "metadata": {},
   "outputs": [],
   "source": [
    "# 8 params are mu11, mu12, mu21, mu22, sigma11, sigma12, sigma21, sigma22\n",
    "\n",
    "n_real_price = pd.read_csv(\"/Users/changmao/Desktop/real_pair_prices.csv\", index_col=[0])\n",
    "n_real_log_price = price_to_log_price(n_real_price)\n",
    "\n",
    "n_real_return = pd.read_csv(\"/Users/changmao/Desktop/real_pair_returns.csv\", index_col=[0])\n",
    "n_real_stats = cal_stats(n_return=n_real_return, n_price=None)\n",
    "\n",
    "\n",
    "# fixed constants are:\n",
    "xinit = [4, 5]\n",
    "\n",
    "num_sim, T0, T, length = n_real_stats.shape[0], 0, 1, n_real_price.shape[0]\n",
    "# num_sim 248 and length 250"
   ]
  },
  {
   "cell_type": "markdown",
   "id": "fed3da09",
   "metadata": {},
   "source": [
    "The calibration process can be seen as a process of seeking for a set of values of the parameters such that the simulations are the closest to the real data in a sense that the feature statistics of simulations are matched with those of real returns such that the total losses  are minimised. Also, we'll see the losses of moments."
   ]
  },
  {
   "cell_type": "code",
   "execution_count": 7,
   "id": "f8095699",
   "metadata": {},
   "outputs": [
    {
     "name": "stdout",
     "output_type": "stream",
     "text": [
      "Optimization terminated successfully.\n",
      "         Current function value: 3434.890433\n",
      "         Iterations: 4\n",
      "         Function evaluations: 803\n",
      "[ 2.82169798  0.66376493  3.08320054  0.61614326 -1.89944112 -1.7523584\n",
      " -6.42814383 -1.34681831]\n",
      "0:22:13.995248\n",
      "return_mean1          26.896966\n",
      "return_mean2          28.324004\n",
      "return_sd1            88.362212\n",
      "return_sd2           100.223226\n",
      "return_skew1         159.289464\n",
      "return_skew2         218.317354\n",
      "return_kurtosis1    1141.868824\n",
      "return_kurtosis2    1701.106498\n",
      "dtype: float64\n"
     ]
    }
   ],
   "source": [
    "np.random.seed(9868)\n",
    "\n",
    "initial0 = [1, 1, 1, 1, 1, 1, 1, 1]\n",
    "\n",
    "# Look at the optimisation results\n",
    "begin_time = datetime.datetime.now()\n",
    "res = minimize(loss_function, initial0, method='Powell', \n",
    "               tol=1e-6, options={'disp': True})\n",
    "print(res.x)\n",
    "    \n",
    "# Look at the running time\n",
    "time = datetime.datetime.now() - begin_time\n",
    "print(time)\n",
    "    \n",
    "# Look at the scales of losses of different moments\n",
    "np.random.seed(9868)\n",
    "params = (res.x)\n",
    "params = FloatVector(params)\n",
    "moment_loss = pd.DataFrame().reindex_like(n_real_stats)\n",
    "randseed = np.random.randint(low=0, high=1000000, size=(1,))\n",
    "n_sim_log_price = n_ou_simulation(\n",
    "    random_seed=int(randseed), num_sim=num_sim,\n",
    "    mu11=params[0], mu12=params[1], mu21=params[2], mu22=params[3],\n",
    "    sigma11=params[4], sigma12=params[5], sigma21=params[6], sigma22=params[7],\n",
    "    xinit=xinit, T0=T0, T=T, length=length)\n",
    "\n",
    "n_sim_price = log_price_to_price(n_sim_log_price)\n",
    "n_sim_return = price_to_return(n_sim_price)\n",
    "n_sim_stats = cal_stats(n_sim_return)\n",
    "\n",
    "for k in range(n_real_stats.shape[0]):\n",
    "    for j in range(n_real_stats.shape[1]):\n",
    "        moment_loss.iloc[k, j] = np.sqrt((n_real_stats.iloc[k, j] - \n",
    "                                          n_sim_stats.iloc[k, j])**2)\n",
    "        \n",
    "sum_all = np.sum(moment_loss)\n",
    "print(sum_all)"
   ]
  },
  {
   "cell_type": "markdown",
   "id": "426e1a49",
   "metadata": {},
   "source": [
    "Save the simulated data."
   ]
  },
  {
   "cell_type": "code",
   "execution_count": 8,
   "id": "2e5766b5",
   "metadata": {},
   "outputs": [],
   "source": [
    "n_sim_price.to_csv(\"ou_8params_price.csv\")\n",
    "n_sim_return.to_csv(\"ou_8params_return.csv\")"
   ]
  },
  {
   "cell_type": "markdown",
   "id": "597af4c8",
   "metadata": {},
   "source": [
    "# Simulation Study"
   ]
  },
  {
   "cell_type": "markdown",
   "id": "06f13ac4",
   "metadata": {},
   "source": [
    "Set values. We will do a simulation study by generating pair series 1000 times with length of each series 250 (approx one-year data in real market)."
   ]
  },
  {
   "cell_type": "code",
   "execution_count": 9,
   "id": "5c24dfa5",
   "metadata": {},
   "outputs": [],
   "source": [
    "random_seed = 9868\n",
    "\n",
    "mu11, mu12, mu21, mu22, sigma11, sigma12, sigma21, sigma22 = params\n",
    "\n",
    "num_sim, T0, T, length = 500, 0, 1, 250"
   ]
  },
  {
   "cell_type": "markdown",
   "id": "a6b62251",
   "metadata": {},
   "source": [
    "Set the simulation generated from the model with the obtained parameters as the real data."
   ]
  },
  {
   "cell_type": "code",
   "execution_count": 10,
   "id": "df72f5e3",
   "metadata": {},
   "outputs": [],
   "source": [
    "np.random.seed(9868)\n",
    "n_real_log_price = n_ou_simulation(\n",
    "    random_seed=random_seed, num_sim=num_sim,\n",
    "    mu11=mu11, mu12=mu12, mu21=mu21, mu22=mu22,\n",
    "    sigma11=sigma11, sigma12=sigma12, sigma21=sigma21, sigma22=sigma22,\n",
    "    xinit=xinit, T0=T0, T=T, length=length)\n",
    "n_real_price = log_price_to_price(n_log_price=n_real_log_price)\n",
    "n_real_return = price_to_return(n_price=n_real_price)\n",
    "n_real_stats = cal_stats(n_return=n_real_return, n_price=None)"
   ]
  },
  {
   "cell_type": "markdown",
   "id": "dd82ddf4",
   "metadata": {},
   "source": [
    "See the effect on the losses by different moments"
   ]
  },
  {
   "cell_type": "code",
   "execution_count": 11,
   "id": "a030e548",
   "metadata": {},
   "outputs": [
    {
     "name": "stdout",
     "output_type": "stream",
     "text": [
      "(2.8216979771538244, 0.6637649277493886, 3.0832005350682827, 0.6161432636991623, -1.8994411153385518, -1.752358395920263, -6.428143827987734, -1.346818311131768) 682.9686148110301\n",
      "(1.8216979771538244, 0.6637649277493886, 3.0832005350682827, 0.6161432636991623, -1.8994411153385518, -1.752358395920263, -6.428143827987734, -1.346818311131768) 783.144770159535\n",
      "(3.8216979771538244, 0.6637649277493886, 3.0832005350682827, 0.6161432636991623, -1.8994411153385518, -1.752358395920263, -6.428143827987734, -1.346818311131768) 774.8746302522961\n",
      "(2.8216979771538244, -0.33623507225061144, 3.0832005350682827, 0.6161432636991623, -1.8994411153385518, -1.752358395920263, -6.428143827987734, -1.346818311131768) 1626.555835793653\n",
      "(2.8216979771538244, 1.6637649277493884, 3.0832005350682827, 0.6161432636991623, -1.8994411153385518, -1.752358395920263, -6.428143827987734, -1.346818311131768) 1040.9609312689413\n",
      "(2.8216979771538244, 0.6637649277493886, 2.0832005350682827, 0.6161432636991623, -1.8994411153385518, -1.752358395920263, -6.428143827987734, -1.346818311131768) 797.8742271669829\n",
      "(2.8216979771538244, 0.6637649277493886, 4.083200535068283, 0.6161432636991623, -1.8994411153385518, -1.752358395920263, -6.428143827987734, -1.346818311131768) 795.2833835549673\n",
      "(2.8216979771538244, 0.6637649277493886, 3.0832005350682827, -0.3838567363008377, -1.8994411153385518, -1.752358395920263, -6.428143827987734, -1.346818311131768) 1865.0108254838447\n",
      "(2.8216979771538244, 0.6637649277493886, 3.0832005350682827, 1.6161432636991622, -1.8994411153385518, -1.752358395920263, -6.428143827987734, -1.346818311131768) 1146.855271191379\n",
      "(2.8216979771538244, 0.6637649277493886, 3.0832005350682827, 0.6161432636991623, -2.8994411153385515, -1.752358395920263, -6.428143827987734, -1.346818311131768) 768.6506319461989\n",
      "(2.8216979771538244, 0.6637649277493886, 3.0832005350682827, 0.6161432636991623, -0.8994411153385518, -1.752358395920263, -6.428143827987734, -1.346818311131768) 1326.184052225094\n",
      "(2.8216979771538244, 0.6637649277493886, 3.0832005350682827, 0.6161432636991623, -1.8994411153385518, -2.752358395920263, -6.428143827987734, -1.346818311131768) 834.5811205936095\n",
      "(2.8216979771538244, 0.6637649277493886, 3.0832005350682827, 0.6161432636991623, -1.8994411153385518, -0.7523583959202631, -6.428143827987734, -1.346818311131768) 1503.4190417008485\n",
      "(2.8216979771538244, 0.6637649277493886, 3.0832005350682827, 0.6161432636991623, -1.8994411153385518, -1.752358395920263, -7.428143827987734, -1.346818311131768) 661.2738754897042\n",
      "(2.8216979771538244, 0.6637649277493886, 3.0832005350682827, 0.6161432636991623, -1.8994411153385518, -1.752358395920263, -5.428143827987734, -1.346818311131768) 678.5508781177227\n",
      "(2.8216979771538244, 0.6637649277493886, 3.0832005350682827, 0.6161432636991623, -1.8994411153385518, -1.752358395920263, -6.428143827987734, -2.346818311131768) 1157.6658255686204\n",
      "(2.8216979771538244, 0.6637649277493886, 3.0832005350682827, 0.6161432636991623, -1.8994411153385518, -1.752358395920263, -6.428143827987734, -0.346818311131768) 2097.5900199324724\n"
     ]
    }
   ],
   "source": [
    "np.random.seed(9868)\n",
    "\n",
    "params_vec = [(mu11, mu12, mu21, mu22, sigma11, sigma12, sigma21, sigma22),\n",
    "              (mu11-1, mu12, mu21, mu22, sigma11, sigma12, sigma21, sigma22),\n",
    "              (mu11+1, mu12, mu21, mu22, sigma11, sigma12, sigma21, sigma22),\n",
    "              (mu11, mu12-1, mu21, mu22, sigma11, sigma12, sigma21, sigma22),\n",
    "              (mu11, mu12+1, mu21, mu22, sigma11, sigma12, sigma21, sigma22),\n",
    "              (mu11, mu12, mu21-1, mu22, sigma11, sigma12, sigma21, sigma22),\n",
    "              (mu11, mu12, mu21+1, mu22, sigma11, sigma12, sigma21, sigma22),\n",
    "              (mu11, mu12, mu21, mu22-1, sigma11, sigma12, sigma21, sigma22),\n",
    "              (mu11, mu12, mu21, mu22+1, sigma11, sigma12, sigma21, sigma22),\n",
    "              (mu11, mu12, mu21, mu22, sigma11-1, sigma12, sigma21, sigma22),\n",
    "              (mu11, mu12, mu21, mu22, sigma11+1, sigma12, sigma21, sigma22),\n",
    "              (mu11, mu12, mu21, mu22, sigma11, sigma12-1, sigma21, sigma22),\n",
    "              (mu11, mu12, mu21, mu22, sigma11, sigma12+1, sigma21, sigma22),\n",
    "              (mu11, mu12, mu21, mu22, sigma11, sigma12, sigma21-1, sigma22),\n",
    "              (mu11, mu12, mu21, mu22, sigma11, sigma12, sigma21+1, sigma22),\n",
    "              (mu11, mu12, mu21, mu22, sigma11, sigma12, sigma21, sigma22-1),\n",
    "              (mu11, mu12, mu21, mu22, sigma11, sigma12, sigma21, sigma22+1)]\n",
    "for i in params_vec:\n",
    "    print(i, loss_function(i))"
   ]
  },
  {
   "cell_type": "markdown",
   "id": "4d6cf2ab",
   "metadata": {},
   "source": [
    "We can iterate the optimisation 5 times and see the results."
   ]
  },
  {
   "cell_type": "code",
   "execution_count": 12,
   "id": "5b1237bc",
   "metadata": {
    "scrolled": true
   },
   "outputs": [
    {
     "name": "stdout",
     "output_type": "stream",
     "text": [
      "(2.8216979771538244, 0.6637649277493886, 3.0832005350682827, 0.6161432636991623, -1.8994411153385518, -1.752358395920263, -6.428143827987734, -0.346818311131768)\n",
      "2021-08-01 20:38:08.855148\n"
     ]
    },
    {
     "name": "stderr",
     "output_type": "stream",
     "text": [
      "From cffi callback <function _processevents at 0x7fc7b0661680>:\n",
      "Traceback (most recent call last):\n",
      "  File \"/opt/homebrew/anaconda3/envs/venv37/lib/python3.7/site-packages/rpy2/rinterface_lib/callbacks.py\", line 274, in _processevents\n",
      "    @ffi_proxy.callback(ffi_proxy._processevents_def,\n",
      "KeyboardInterrupt\n",
      "From cffi callback <function _processevents at 0x7fc7b0661680>:\n",
      "Traceback (most recent call last):\n",
      "  File \"/opt/homebrew/anaconda3/envs/venv37/lib/python3.7/site-packages/rpy2/rinterface_lib/callbacks.py\", line 274, in _processevents\n",
      "    @ffi_proxy.callback(ffi_proxy._processevents_def,\n",
      "KeyboardInterrupt\n",
      "From cffi callback <function _processevents at 0x7fc7b0661680>:\n",
      "Traceback (most recent call last):\n",
      "  File \"/opt/homebrew/anaconda3/envs/venv37/lib/python3.7/site-packages/rpy2/rinterface_lib/callbacks.py\", line 274, in _processevents\n",
      "    @ffi_proxy.callback(ffi_proxy._processevents_def,\n",
      "KeyboardInterrupt\n"
     ]
    },
    {
     "ename": "KeyboardInterrupt",
     "evalue": "",
     "output_type": "error",
     "traceback": [
      "\u001b[0;31m---------------------------------------------------------------------------\u001b[0m",
      "\u001b[0;31mKeyboardInterrupt\u001b[0m                         Traceback (most recent call last)",
      "\u001b[0;32m<ipython-input-12-72570ad41fd5>\u001b[0m in \u001b[0;36m<module>\u001b[0;34m\u001b[0m\n\u001b[1;32m     13\u001b[0m \u001b[0;34m\u001b[0m\u001b[0m\n\u001b[1;32m     14\u001b[0m     \u001b[0;31m# look at the results of the optimisation\u001b[0m\u001b[0;34m\u001b[0m\u001b[0;34m\u001b[0m\u001b[0;34m\u001b[0m\u001b[0m\n\u001b[0;32m---> 15\u001b[0;31m     \u001b[0mres\u001b[0m \u001b[0;34m=\u001b[0m \u001b[0mminimize\u001b[0m\u001b[0;34m(\u001b[0m\u001b[0mloss_function\u001b[0m\u001b[0;34m,\u001b[0m \u001b[0minitial0\u001b[0m\u001b[0;34m,\u001b[0m \u001b[0mmethod\u001b[0m\u001b[0;34m=\u001b[0m\u001b[0;34m'Powell'\u001b[0m\u001b[0;34m,\u001b[0m \u001b[0mtol\u001b[0m\u001b[0;34m=\u001b[0m\u001b[0;36m1e-6\u001b[0m\u001b[0;34m,\u001b[0m \u001b[0moptions\u001b[0m\u001b[0;34m=\u001b[0m\u001b[0;34m{\u001b[0m\u001b[0;34m'disp'\u001b[0m\u001b[0;34m:\u001b[0m \u001b[0;32mTrue\u001b[0m\u001b[0;34m}\u001b[0m\u001b[0;34m)\u001b[0m\u001b[0;34m\u001b[0m\u001b[0;34m\u001b[0m\u001b[0m\n\u001b[0m\u001b[1;32m     16\u001b[0m     \u001b[0mprint\u001b[0m\u001b[0;34m(\u001b[0m\u001b[0mres\u001b[0m\u001b[0;34m.\u001b[0m\u001b[0mx\u001b[0m\u001b[0;34m)\u001b[0m\u001b[0;34m\u001b[0m\u001b[0;34m\u001b[0m\u001b[0m\n\u001b[1;32m     17\u001b[0m \u001b[0;34m\u001b[0m\u001b[0m\n",
      "\u001b[0;32m/opt/homebrew/anaconda3/envs/venv37/lib/python3.7/site-packages/scipy/optimize/_minimize.py\u001b[0m in \u001b[0;36mminimize\u001b[0;34m(fun, x0, args, method, jac, hess, hessp, bounds, constraints, tol, callback, options)\u001b[0m\n\u001b[1;32m    608\u001b[0m         \u001b[0;32mreturn\u001b[0m \u001b[0m_minimize_neldermead\u001b[0m\u001b[0;34m(\u001b[0m\u001b[0mfun\u001b[0m\u001b[0;34m,\u001b[0m \u001b[0mx0\u001b[0m\u001b[0;34m,\u001b[0m \u001b[0margs\u001b[0m\u001b[0;34m,\u001b[0m \u001b[0mcallback\u001b[0m\u001b[0;34m,\u001b[0m \u001b[0;34m**\u001b[0m\u001b[0moptions\u001b[0m\u001b[0;34m)\u001b[0m\u001b[0;34m\u001b[0m\u001b[0;34m\u001b[0m\u001b[0m\n\u001b[1;32m    609\u001b[0m     \u001b[0;32melif\u001b[0m \u001b[0mmeth\u001b[0m \u001b[0;34m==\u001b[0m \u001b[0;34m'powell'\u001b[0m\u001b[0;34m:\u001b[0m\u001b[0;34m\u001b[0m\u001b[0;34m\u001b[0m\u001b[0m\n\u001b[0;32m--> 610\u001b[0;31m         \u001b[0;32mreturn\u001b[0m \u001b[0m_minimize_powell\u001b[0m\u001b[0;34m(\u001b[0m\u001b[0mfun\u001b[0m\u001b[0;34m,\u001b[0m \u001b[0mx0\u001b[0m\u001b[0;34m,\u001b[0m \u001b[0margs\u001b[0m\u001b[0;34m,\u001b[0m \u001b[0mcallback\u001b[0m\u001b[0;34m,\u001b[0m \u001b[0mbounds\u001b[0m\u001b[0;34m,\u001b[0m \u001b[0;34m**\u001b[0m\u001b[0moptions\u001b[0m\u001b[0;34m)\u001b[0m\u001b[0;34m\u001b[0m\u001b[0;34m\u001b[0m\u001b[0m\n\u001b[0m\u001b[1;32m    611\u001b[0m     \u001b[0;32melif\u001b[0m \u001b[0mmeth\u001b[0m \u001b[0;34m==\u001b[0m \u001b[0;34m'cg'\u001b[0m\u001b[0;34m:\u001b[0m\u001b[0;34m\u001b[0m\u001b[0;34m\u001b[0m\u001b[0m\n\u001b[1;32m    612\u001b[0m         \u001b[0;32mreturn\u001b[0m \u001b[0m_minimize_cg\u001b[0m\u001b[0;34m(\u001b[0m\u001b[0mfun\u001b[0m\u001b[0;34m,\u001b[0m \u001b[0mx0\u001b[0m\u001b[0;34m,\u001b[0m \u001b[0margs\u001b[0m\u001b[0;34m,\u001b[0m \u001b[0mjac\u001b[0m\u001b[0;34m,\u001b[0m \u001b[0mcallback\u001b[0m\u001b[0;34m,\u001b[0m \u001b[0;34m**\u001b[0m\u001b[0moptions\u001b[0m\u001b[0;34m)\u001b[0m\u001b[0;34m\u001b[0m\u001b[0;34m\u001b[0m\u001b[0m\n",
      "\u001b[0;32m/opt/homebrew/anaconda3/envs/venv37/lib/python3.7/site-packages/scipy/optimize/optimize.py\u001b[0m in \u001b[0;36m_minimize_powell\u001b[0;34m(func, x0, args, callback, bounds, xtol, ftol, maxiter, maxfev, disp, direc, return_all, **unknown_options)\u001b[0m\n\u001b[1;32m   2967\u001b[0m                                                  \u001b[0mlower_bound\u001b[0m\u001b[0;34m=\u001b[0m\u001b[0mlower_bound\u001b[0m\u001b[0;34m,\u001b[0m\u001b[0;34m\u001b[0m\u001b[0;34m\u001b[0m\u001b[0m\n\u001b[1;32m   2968\u001b[0m                                                  \u001b[0mupper_bound\u001b[0m\u001b[0;34m=\u001b[0m\u001b[0mupper_bound\u001b[0m\u001b[0;34m,\u001b[0m\u001b[0;34m\u001b[0m\u001b[0;34m\u001b[0m\u001b[0m\n\u001b[0;32m-> 2969\u001b[0;31m                                                  fval=fval)\n\u001b[0m\u001b[1;32m   2970\u001b[0m             \u001b[0;32mif\u001b[0m \u001b[0;34m(\u001b[0m\u001b[0mfx2\u001b[0m \u001b[0;34m-\u001b[0m \u001b[0mfval\u001b[0m\u001b[0;34m)\u001b[0m \u001b[0;34m>\u001b[0m \u001b[0mdelta\u001b[0m\u001b[0;34m:\u001b[0m\u001b[0;34m\u001b[0m\u001b[0;34m\u001b[0m\u001b[0m\n\u001b[1;32m   2971\u001b[0m                 \u001b[0mdelta\u001b[0m \u001b[0;34m=\u001b[0m \u001b[0mfx2\u001b[0m \u001b[0;34m-\u001b[0m \u001b[0mfval\u001b[0m\u001b[0;34m\u001b[0m\u001b[0;34m\u001b[0m\u001b[0m\n",
      "\u001b[0;32m/opt/homebrew/anaconda3/envs/venv37/lib/python3.7/site-packages/scipy/optimize/optimize.py\u001b[0m in \u001b[0;36m_linesearch_powell\u001b[0;34m(func, p, xi, tol, lower_bound, upper_bound, fval)\u001b[0m\n\u001b[1;32m   2694\u001b[0m     \u001b[0;32melif\u001b[0m \u001b[0mlower_bound\u001b[0m \u001b[0;32mis\u001b[0m \u001b[0;32mNone\u001b[0m \u001b[0;32mand\u001b[0m \u001b[0mupper_bound\u001b[0m \u001b[0;32mis\u001b[0m \u001b[0;32mNone\u001b[0m\u001b[0;34m:\u001b[0m\u001b[0;34m\u001b[0m\u001b[0;34m\u001b[0m\u001b[0m\n\u001b[1;32m   2695\u001b[0m         \u001b[0;31m# non-bounded minimization\u001b[0m\u001b[0;34m\u001b[0m\u001b[0;34m\u001b[0m\u001b[0;34m\u001b[0m\u001b[0m\n\u001b[0;32m-> 2696\u001b[0;31m         \u001b[0malpha_min\u001b[0m\u001b[0;34m,\u001b[0m \u001b[0mfret\u001b[0m\u001b[0;34m,\u001b[0m \u001b[0m_\u001b[0m\u001b[0;34m,\u001b[0m \u001b[0m_\u001b[0m \u001b[0;34m=\u001b[0m \u001b[0mbrent\u001b[0m\u001b[0;34m(\u001b[0m\u001b[0mmyfunc\u001b[0m\u001b[0;34m,\u001b[0m \u001b[0mfull_output\u001b[0m\u001b[0;34m=\u001b[0m\u001b[0;36m1\u001b[0m\u001b[0;34m,\u001b[0m \u001b[0mtol\u001b[0m\u001b[0;34m=\u001b[0m\u001b[0mtol\u001b[0m\u001b[0;34m)\u001b[0m\u001b[0;34m\u001b[0m\u001b[0;34m\u001b[0m\u001b[0m\n\u001b[0m\u001b[1;32m   2697\u001b[0m         \u001b[0mxi\u001b[0m \u001b[0;34m=\u001b[0m \u001b[0malpha_min\u001b[0m \u001b[0;34m*\u001b[0m \u001b[0mxi\u001b[0m\u001b[0;34m\u001b[0m\u001b[0;34m\u001b[0m\u001b[0m\n\u001b[1;32m   2698\u001b[0m         \u001b[0;32mreturn\u001b[0m \u001b[0msqueeze\u001b[0m\u001b[0;34m(\u001b[0m\u001b[0mfret\u001b[0m\u001b[0;34m)\u001b[0m\u001b[0;34m,\u001b[0m \u001b[0mp\u001b[0m \u001b[0;34m+\u001b[0m \u001b[0mxi\u001b[0m\u001b[0;34m,\u001b[0m \u001b[0mxi\u001b[0m\u001b[0;34m\u001b[0m\u001b[0;34m\u001b[0m\u001b[0m\n",
      "\u001b[0;32m/opt/homebrew/anaconda3/envs/venv37/lib/python3.7/site-packages/scipy/optimize/optimize.py\u001b[0m in \u001b[0;36mbrent\u001b[0;34m(func, args, brack, tol, full_output, maxiter)\u001b[0m\n\u001b[1;32m   2296\u001b[0m     options = {'xtol': tol,\n\u001b[1;32m   2297\u001b[0m                'maxiter': maxiter}\n\u001b[0;32m-> 2298\u001b[0;31m     \u001b[0mres\u001b[0m \u001b[0;34m=\u001b[0m \u001b[0m_minimize_scalar_brent\u001b[0m\u001b[0;34m(\u001b[0m\u001b[0mfunc\u001b[0m\u001b[0;34m,\u001b[0m \u001b[0mbrack\u001b[0m\u001b[0;34m,\u001b[0m \u001b[0margs\u001b[0m\u001b[0;34m,\u001b[0m \u001b[0;34m**\u001b[0m\u001b[0moptions\u001b[0m\u001b[0;34m)\u001b[0m\u001b[0;34m\u001b[0m\u001b[0;34m\u001b[0m\u001b[0m\n\u001b[0m\u001b[1;32m   2299\u001b[0m     \u001b[0;32mif\u001b[0m \u001b[0mfull_output\u001b[0m\u001b[0;34m:\u001b[0m\u001b[0;34m\u001b[0m\u001b[0;34m\u001b[0m\u001b[0m\n\u001b[1;32m   2300\u001b[0m         \u001b[0;32mreturn\u001b[0m \u001b[0mres\u001b[0m\u001b[0;34m[\u001b[0m\u001b[0;34m'x'\u001b[0m\u001b[0;34m]\u001b[0m\u001b[0;34m,\u001b[0m \u001b[0mres\u001b[0m\u001b[0;34m[\u001b[0m\u001b[0;34m'fun'\u001b[0m\u001b[0;34m]\u001b[0m\u001b[0;34m,\u001b[0m \u001b[0mres\u001b[0m\u001b[0;34m[\u001b[0m\u001b[0;34m'nit'\u001b[0m\u001b[0;34m]\u001b[0m\u001b[0;34m,\u001b[0m \u001b[0mres\u001b[0m\u001b[0;34m[\u001b[0m\u001b[0;34m'nfev'\u001b[0m\u001b[0;34m]\u001b[0m\u001b[0;34m\u001b[0m\u001b[0;34m\u001b[0m\u001b[0m\n",
      "\u001b[0;32m/opt/homebrew/anaconda3/envs/venv37/lib/python3.7/site-packages/scipy/optimize/optimize.py\u001b[0m in \u001b[0;36m_minimize_scalar_brent\u001b[0;34m(func, brack, args, xtol, maxiter, **unknown_options)\u001b[0m\n\u001b[1;32m   2328\u001b[0m                   full_output=True, maxiter=maxiter)\n\u001b[1;32m   2329\u001b[0m     \u001b[0mbrent\u001b[0m\u001b[0;34m.\u001b[0m\u001b[0mset_bracket\u001b[0m\u001b[0;34m(\u001b[0m\u001b[0mbrack\u001b[0m\u001b[0;34m)\u001b[0m\u001b[0;34m\u001b[0m\u001b[0;34m\u001b[0m\u001b[0m\n\u001b[0;32m-> 2330\u001b[0;31m     \u001b[0mbrent\u001b[0m\u001b[0;34m.\u001b[0m\u001b[0moptimize\u001b[0m\u001b[0;34m(\u001b[0m\u001b[0;34m)\u001b[0m\u001b[0;34m\u001b[0m\u001b[0;34m\u001b[0m\u001b[0m\n\u001b[0m\u001b[1;32m   2331\u001b[0m     \u001b[0mx\u001b[0m\u001b[0;34m,\u001b[0m \u001b[0mfval\u001b[0m\u001b[0;34m,\u001b[0m \u001b[0mnit\u001b[0m\u001b[0;34m,\u001b[0m \u001b[0mnfev\u001b[0m \u001b[0;34m=\u001b[0m \u001b[0mbrent\u001b[0m\u001b[0;34m.\u001b[0m\u001b[0mget_result\u001b[0m\u001b[0;34m(\u001b[0m\u001b[0mfull_output\u001b[0m\u001b[0;34m=\u001b[0m\u001b[0;32mTrue\u001b[0m\u001b[0;34m)\u001b[0m\u001b[0;34m\u001b[0m\u001b[0;34m\u001b[0m\u001b[0m\n\u001b[1;32m   2332\u001b[0m \u001b[0;34m\u001b[0m\u001b[0m\n",
      "\u001b[0;32m/opt/homebrew/anaconda3/envs/venv37/lib/python3.7/site-packages/scipy/optimize/optimize.py\u001b[0m in \u001b[0;36moptimize\u001b[0;34m(self)\u001b[0m\n\u001b[1;32m   2179\u001b[0m             \u001b[0;32melse\u001b[0m\u001b[0;34m:\u001b[0m\u001b[0;34m\u001b[0m\u001b[0;34m\u001b[0m\u001b[0m\n\u001b[1;32m   2180\u001b[0m                 \u001b[0mu\u001b[0m \u001b[0;34m=\u001b[0m \u001b[0mx\u001b[0m \u001b[0;34m+\u001b[0m \u001b[0mrat\u001b[0m\u001b[0;34m\u001b[0m\u001b[0;34m\u001b[0m\u001b[0m\n\u001b[0;32m-> 2181\u001b[0;31m             \u001b[0mfu\u001b[0m \u001b[0;34m=\u001b[0m \u001b[0mfunc\u001b[0m\u001b[0;34m(\u001b[0m\u001b[0;34m*\u001b[0m\u001b[0;34m(\u001b[0m\u001b[0;34m(\u001b[0m\u001b[0mu\u001b[0m\u001b[0;34m,\u001b[0m\u001b[0;34m)\u001b[0m \u001b[0;34m+\u001b[0m \u001b[0mself\u001b[0m\u001b[0;34m.\u001b[0m\u001b[0margs\u001b[0m\u001b[0;34m)\u001b[0m\u001b[0;34m)\u001b[0m      \u001b[0;31m# calculate new output value\u001b[0m\u001b[0;34m\u001b[0m\u001b[0;34m\u001b[0m\u001b[0m\n\u001b[0m\u001b[1;32m   2182\u001b[0m             \u001b[0mfuncalls\u001b[0m \u001b[0;34m+=\u001b[0m \u001b[0;36m1\u001b[0m\u001b[0;34m\u001b[0m\u001b[0;34m\u001b[0m\u001b[0m\n\u001b[1;32m   2183\u001b[0m \u001b[0;34m\u001b[0m\u001b[0m\n",
      "\u001b[0;32m/opt/homebrew/anaconda3/envs/venv37/lib/python3.7/site-packages/scipy/optimize/optimize.py\u001b[0m in \u001b[0;36mmyfunc\u001b[0;34m(alpha)\u001b[0m\n\u001b[1;32m   2687\u001b[0m     \"\"\"\n\u001b[1;32m   2688\u001b[0m     \u001b[0;32mdef\u001b[0m \u001b[0mmyfunc\u001b[0m\u001b[0;34m(\u001b[0m\u001b[0malpha\u001b[0m\u001b[0;34m)\u001b[0m\u001b[0;34m:\u001b[0m\u001b[0;34m\u001b[0m\u001b[0;34m\u001b[0m\u001b[0m\n\u001b[0;32m-> 2689\u001b[0;31m         \u001b[0;32mreturn\u001b[0m \u001b[0mfunc\u001b[0m\u001b[0;34m(\u001b[0m\u001b[0mp\u001b[0m \u001b[0;34m+\u001b[0m \u001b[0malpha\u001b[0m\u001b[0;34m*\u001b[0m\u001b[0mxi\u001b[0m\u001b[0;34m)\u001b[0m\u001b[0;34m\u001b[0m\u001b[0;34m\u001b[0m\u001b[0m\n\u001b[0m\u001b[1;32m   2690\u001b[0m \u001b[0;34m\u001b[0m\u001b[0m\n\u001b[1;32m   2691\u001b[0m     \u001b[0;31m# if xi is zero, then don't optimize\u001b[0m\u001b[0;34m\u001b[0m\u001b[0;34m\u001b[0m\u001b[0;34m\u001b[0m\u001b[0m\n",
      "\u001b[0;32m/opt/homebrew/anaconda3/envs/venv37/lib/python3.7/site-packages/scipy/optimize/optimize.py\u001b[0m in \u001b[0;36mfunction_wrapper\u001b[0;34m(*wrapper_args)\u001b[0m\n\u001b[1;32m    459\u001b[0m     \u001b[0;32mdef\u001b[0m \u001b[0mfunction_wrapper\u001b[0m\u001b[0;34m(\u001b[0m\u001b[0;34m*\u001b[0m\u001b[0mwrapper_args\u001b[0m\u001b[0;34m)\u001b[0m\u001b[0;34m:\u001b[0m\u001b[0;34m\u001b[0m\u001b[0;34m\u001b[0m\u001b[0m\n\u001b[1;32m    460\u001b[0m         \u001b[0mncalls\u001b[0m\u001b[0;34m[\u001b[0m\u001b[0;36m0\u001b[0m\u001b[0;34m]\u001b[0m \u001b[0;34m+=\u001b[0m \u001b[0;36m1\u001b[0m\u001b[0;34m\u001b[0m\u001b[0;34m\u001b[0m\u001b[0m\n\u001b[0;32m--> 461\u001b[0;31m         \u001b[0;32mreturn\u001b[0m \u001b[0mfunction\u001b[0m\u001b[0;34m(\u001b[0m\u001b[0;34m*\u001b[0m\u001b[0;34m(\u001b[0m\u001b[0mwrapper_args\u001b[0m \u001b[0;34m+\u001b[0m \u001b[0margs\u001b[0m\u001b[0;34m)\u001b[0m\u001b[0;34m)\u001b[0m\u001b[0;34m\u001b[0m\u001b[0;34m\u001b[0m\u001b[0m\n\u001b[0m\u001b[1;32m    462\u001b[0m \u001b[0;34m\u001b[0m\u001b[0m\n\u001b[1;32m    463\u001b[0m     \u001b[0;32mreturn\u001b[0m \u001b[0mncalls\u001b[0m\u001b[0;34m,\u001b[0m \u001b[0mfunction_wrapper\u001b[0m\u001b[0;34m\u001b[0m\u001b[0;34m\u001b[0m\u001b[0m\n",
      "\u001b[0;32m<ipython-input-5-163379c80461>\u001b[0m in \u001b[0;36mloss_function\u001b[0;34m(params)\u001b[0m\n\u001b[1;32m     11\u001b[0m         \u001b[0mmu11\u001b[0m\u001b[0;34m=\u001b[0m\u001b[0mparams\u001b[0m\u001b[0;34m[\u001b[0m\u001b[0;36m0\u001b[0m\u001b[0;34m]\u001b[0m\u001b[0;34m,\u001b[0m \u001b[0mmu12\u001b[0m\u001b[0;34m=\u001b[0m\u001b[0mparams\u001b[0m\u001b[0;34m[\u001b[0m\u001b[0;36m1\u001b[0m\u001b[0;34m]\u001b[0m\u001b[0;34m,\u001b[0m \u001b[0mmu21\u001b[0m\u001b[0;34m=\u001b[0m\u001b[0mparams\u001b[0m\u001b[0;34m[\u001b[0m\u001b[0;36m2\u001b[0m\u001b[0;34m]\u001b[0m\u001b[0;34m,\u001b[0m \u001b[0mmu22\u001b[0m\u001b[0;34m=\u001b[0m\u001b[0mparams\u001b[0m\u001b[0;34m[\u001b[0m\u001b[0;36m3\u001b[0m\u001b[0;34m]\u001b[0m\u001b[0;34m,\u001b[0m\u001b[0;34m\u001b[0m\u001b[0;34m\u001b[0m\u001b[0m\n\u001b[1;32m     12\u001b[0m         \u001b[0msigma11\u001b[0m\u001b[0;34m=\u001b[0m\u001b[0mparams\u001b[0m\u001b[0;34m[\u001b[0m\u001b[0;36m4\u001b[0m\u001b[0;34m]\u001b[0m\u001b[0;34m,\u001b[0m \u001b[0msigma12\u001b[0m\u001b[0;34m=\u001b[0m\u001b[0mparams\u001b[0m\u001b[0;34m[\u001b[0m\u001b[0;36m5\u001b[0m\u001b[0;34m]\u001b[0m\u001b[0;34m,\u001b[0m \u001b[0msigma21\u001b[0m\u001b[0;34m=\u001b[0m\u001b[0mparams\u001b[0m\u001b[0;34m[\u001b[0m\u001b[0;36m6\u001b[0m\u001b[0;34m]\u001b[0m\u001b[0;34m,\u001b[0m \u001b[0msigma22\u001b[0m\u001b[0;34m=\u001b[0m\u001b[0mparams\u001b[0m\u001b[0;34m[\u001b[0m\u001b[0;36m7\u001b[0m\u001b[0;34m]\u001b[0m\u001b[0;34m,\u001b[0m\u001b[0;34m\u001b[0m\u001b[0;34m\u001b[0m\u001b[0m\n\u001b[0;32m---> 13\u001b[0;31m         xinit=xinit, T0=T0, T=T, length=length)\n\u001b[0m\u001b[1;32m     14\u001b[0m \u001b[0;34m\u001b[0m\u001b[0m\n\u001b[1;32m     15\u001b[0m     \u001b[0mn_sim_price\u001b[0m \u001b[0;34m=\u001b[0m \u001b[0mlog_price_to_price\u001b[0m\u001b[0;34m(\u001b[0m\u001b[0mn_sim_log_price\u001b[0m\u001b[0;34m)\u001b[0m\u001b[0;34m\u001b[0m\u001b[0;34m\u001b[0m\u001b[0m\n",
      "\u001b[0;32m<ipython-input-2-cfe91815ef7f>\u001b[0m in \u001b[0;36mn_ou_simulation\u001b[0;34m(random_seed, num_sim, mu11, mu12, mu21, mu22, sigma11, sigma12, sigma21, sigma22, xinit, T0, T, length)\u001b[0m\n\u001b[1;32m     44\u001b[0m                               \u001b[0mmu11\u001b[0m\u001b[0;34m=\u001b[0m\u001b[0mmu11\u001b[0m\u001b[0;34m,\u001b[0m \u001b[0mmu12\u001b[0m\u001b[0;34m=\u001b[0m\u001b[0mmu12\u001b[0m\u001b[0;34m,\u001b[0m \u001b[0mmu21\u001b[0m\u001b[0;34m=\u001b[0m\u001b[0mmu21\u001b[0m\u001b[0;34m,\u001b[0m \u001b[0mmu22\u001b[0m\u001b[0;34m=\u001b[0m\u001b[0mmu22\u001b[0m\u001b[0;34m,\u001b[0m\u001b[0;34m\u001b[0m\u001b[0;34m\u001b[0m\u001b[0m\n\u001b[1;32m     45\u001b[0m                               \u001b[0msigma11\u001b[0m\u001b[0;34m=\u001b[0m\u001b[0msigma11\u001b[0m\u001b[0;34m,\u001b[0m \u001b[0msigma12\u001b[0m\u001b[0;34m=\u001b[0m\u001b[0msigma12\u001b[0m\u001b[0;34m,\u001b[0m \u001b[0msigma21\u001b[0m\u001b[0;34m=\u001b[0m\u001b[0msigma21\u001b[0m\u001b[0;34m,\u001b[0m \u001b[0msigma22\u001b[0m\u001b[0;34m=\u001b[0m\u001b[0msigma22\u001b[0m\u001b[0;34m,\u001b[0m\u001b[0;34m\u001b[0m\u001b[0;34m\u001b[0m\u001b[0m\n\u001b[0;32m---> 46\u001b[0;31m                               xinit=xinit, T0=T0, T=T, length=length)).transpose()\n\u001b[0m\u001b[1;32m     47\u001b[0m     \u001b[0;32mreturn\u001b[0m \u001b[0mn_ou_sim_data\u001b[0m\u001b[0;34m\u001b[0m\u001b[0;34m\u001b[0m\u001b[0m\n",
      "\u001b[0;32m/opt/homebrew/anaconda3/envs/venv37/lib/python3.7/site-packages/pandas/core/frame.py\u001b[0m in \u001b[0;36m__init__\u001b[0;34m(self, data, index, columns, dtype, copy)\u001b[0m\n\u001b[1;32m    568\u001b[0m                     \u001b[0;32mif\u001b[0m \u001b[0mis_named_tuple\u001b[0m\u001b[0;34m(\u001b[0m\u001b[0mdata\u001b[0m\u001b[0;34m[\u001b[0m\u001b[0;36m0\u001b[0m\u001b[0;34m]\u001b[0m\u001b[0;34m)\u001b[0m \u001b[0;32mand\u001b[0m \u001b[0mcolumns\u001b[0m \u001b[0;32mis\u001b[0m \u001b[0;32mNone\u001b[0m\u001b[0;34m:\u001b[0m\u001b[0;34m\u001b[0m\u001b[0;34m\u001b[0m\u001b[0m\n\u001b[1;32m    569\u001b[0m                         \u001b[0mcolumns\u001b[0m \u001b[0;34m=\u001b[0m \u001b[0mdata\u001b[0m\u001b[0;34m[\u001b[0m\u001b[0;36m0\u001b[0m\u001b[0;34m]\u001b[0m\u001b[0;34m.\u001b[0m\u001b[0m_fields\u001b[0m\u001b[0;34m\u001b[0m\u001b[0;34m\u001b[0m\u001b[0m\n\u001b[0;32m--> 570\u001b[0;31m                     \u001b[0marrays\u001b[0m\u001b[0;34m,\u001b[0m \u001b[0mcolumns\u001b[0m \u001b[0;34m=\u001b[0m \u001b[0mto_arrays\u001b[0m\u001b[0;34m(\u001b[0m\u001b[0mdata\u001b[0m\u001b[0;34m,\u001b[0m \u001b[0mcolumns\u001b[0m\u001b[0;34m,\u001b[0m \u001b[0mdtype\u001b[0m\u001b[0;34m=\u001b[0m\u001b[0mdtype\u001b[0m\u001b[0;34m)\u001b[0m\u001b[0;34m\u001b[0m\u001b[0;34m\u001b[0m\u001b[0m\n\u001b[0m\u001b[1;32m    571\u001b[0m                     \u001b[0mcolumns\u001b[0m \u001b[0;34m=\u001b[0m \u001b[0mensure_index\u001b[0m\u001b[0;34m(\u001b[0m\u001b[0mcolumns\u001b[0m\u001b[0;34m)\u001b[0m\u001b[0;34m\u001b[0m\u001b[0;34m\u001b[0m\u001b[0m\n\u001b[1;32m    572\u001b[0m \u001b[0;34m\u001b[0m\u001b[0m\n",
      "\u001b[0;32m/opt/homebrew/anaconda3/envs/venv37/lib/python3.7/site-packages/pandas/core/internals/construction.py\u001b[0m in \u001b[0;36mto_arrays\u001b[0;34m(data, columns, coerce_float, dtype)\u001b[0m\n\u001b[1;32m    549\u001b[0m     \u001b[0;32melse\u001b[0m\u001b[0;34m:\u001b[0m\u001b[0;34m\u001b[0m\u001b[0;34m\u001b[0m\u001b[0m\n\u001b[1;32m    550\u001b[0m         \u001b[0;31m# last ditch effort\u001b[0m\u001b[0;34m\u001b[0m\u001b[0;34m\u001b[0m\u001b[0;34m\u001b[0m\u001b[0m\n\u001b[0;32m--> 551\u001b[0;31m         \u001b[0mdata\u001b[0m \u001b[0;34m=\u001b[0m \u001b[0;34m[\u001b[0m\u001b[0mtuple\u001b[0m\u001b[0;34m(\u001b[0m\u001b[0mx\u001b[0m\u001b[0;34m)\u001b[0m \u001b[0;32mfor\u001b[0m \u001b[0mx\u001b[0m \u001b[0;32min\u001b[0m \u001b[0mdata\u001b[0m\u001b[0;34m]\u001b[0m\u001b[0;34m\u001b[0m\u001b[0;34m\u001b[0m\u001b[0m\n\u001b[0m\u001b[1;32m    552\u001b[0m         \u001b[0;32mreturn\u001b[0m \u001b[0m_list_to_arrays\u001b[0m\u001b[0;34m(\u001b[0m\u001b[0mdata\u001b[0m\u001b[0;34m,\u001b[0m \u001b[0mcolumns\u001b[0m\u001b[0;34m,\u001b[0m \u001b[0mcoerce_float\u001b[0m\u001b[0;34m=\u001b[0m\u001b[0mcoerce_float\u001b[0m\u001b[0;34m,\u001b[0m \u001b[0mdtype\u001b[0m\u001b[0;34m=\u001b[0m\u001b[0mdtype\u001b[0m\u001b[0;34m)\u001b[0m\u001b[0;34m\u001b[0m\u001b[0;34m\u001b[0m\u001b[0m\n\u001b[1;32m    553\u001b[0m \u001b[0;34m\u001b[0m\u001b[0m\n",
      "\u001b[0;32m/opt/homebrew/anaconda3/envs/venv37/lib/python3.7/site-packages/pandas/core/internals/construction.py\u001b[0m in \u001b[0;36m<listcomp>\u001b[0;34m(.0)\u001b[0m\n\u001b[1;32m    549\u001b[0m     \u001b[0;32melse\u001b[0m\u001b[0;34m:\u001b[0m\u001b[0;34m\u001b[0m\u001b[0;34m\u001b[0m\u001b[0m\n\u001b[1;32m    550\u001b[0m         \u001b[0;31m# last ditch effort\u001b[0m\u001b[0;34m\u001b[0m\u001b[0;34m\u001b[0m\u001b[0;34m\u001b[0m\u001b[0m\n\u001b[0;32m--> 551\u001b[0;31m         \u001b[0mdata\u001b[0m \u001b[0;34m=\u001b[0m \u001b[0;34m[\u001b[0m\u001b[0mtuple\u001b[0m\u001b[0;34m(\u001b[0m\u001b[0mx\u001b[0m\u001b[0;34m)\u001b[0m \u001b[0;32mfor\u001b[0m \u001b[0mx\u001b[0m \u001b[0;32min\u001b[0m \u001b[0mdata\u001b[0m\u001b[0;34m]\u001b[0m\u001b[0;34m\u001b[0m\u001b[0;34m\u001b[0m\u001b[0m\n\u001b[0m\u001b[1;32m    552\u001b[0m         \u001b[0;32mreturn\u001b[0m \u001b[0m_list_to_arrays\u001b[0m\u001b[0;34m(\u001b[0m\u001b[0mdata\u001b[0m\u001b[0;34m,\u001b[0m \u001b[0mcolumns\u001b[0m\u001b[0;34m,\u001b[0m \u001b[0mcoerce_float\u001b[0m\u001b[0;34m=\u001b[0m\u001b[0mcoerce_float\u001b[0m\u001b[0;34m,\u001b[0m \u001b[0mdtype\u001b[0m\u001b[0;34m=\u001b[0m\u001b[0mdtype\u001b[0m\u001b[0;34m)\u001b[0m\u001b[0;34m\u001b[0m\u001b[0;34m\u001b[0m\u001b[0m\n\u001b[1;32m    553\u001b[0m \u001b[0;34m\u001b[0m\u001b[0m\n",
      "\u001b[0;32m/opt/homebrew/anaconda3/envs/venv37/lib/python3.7/site-packages/rpy2/rinterface_lib/sexp.py\u001b[0m in \u001b[0;36m__iter__\u001b[0;34m(self)\u001b[0m\n\u001b[1;32m    662\u001b[0m     \u001b[0;32mdef\u001b[0m \u001b[0m__iter__\u001b[0m\u001b[0;34m(\u001b[0m\u001b[0mself\u001b[0m\u001b[0;34m)\u001b[0m \u001b[0;34m->\u001b[0m \u001b[0mtyping\u001b[0m\u001b[0;34m.\u001b[0m\u001b[0mIterator\u001b[0m\u001b[0;34m[\u001b[0m\u001b[0mtyping\u001b[0m\u001b[0;34m.\u001b[0m\u001b[0mUnion\u001b[0m\u001b[0;34m[\u001b[0m\u001b[0mSexp\u001b[0m\u001b[0;34m,\u001b[0m \u001b[0mVT\u001b[0m\u001b[0;34m,\u001b[0m \u001b[0mtyping\u001b[0m\u001b[0;34m.\u001b[0m\u001b[0mAny\u001b[0m\u001b[0;34m]\u001b[0m\u001b[0;34m]\u001b[0m\u001b[0;34m:\u001b[0m\u001b[0;34m\u001b[0m\u001b[0;34m\u001b[0m\u001b[0m\n\u001b[1;32m    663\u001b[0m         \u001b[0;32mfor\u001b[0m \u001b[0mi\u001b[0m \u001b[0;32min\u001b[0m \u001b[0mrange\u001b[0m\u001b[0;34m(\u001b[0m\u001b[0mlen\u001b[0m\u001b[0;34m(\u001b[0m\u001b[0mself\u001b[0m\u001b[0;34m)\u001b[0m\u001b[0;34m)\u001b[0m\u001b[0;34m:\u001b[0m\u001b[0;34m\u001b[0m\u001b[0;34m\u001b[0m\u001b[0m\n\u001b[0;32m--> 664\u001b[0;31m             \u001b[0;32myield\u001b[0m \u001b[0mself\u001b[0m\u001b[0;34m[\u001b[0m\u001b[0mi\u001b[0m\u001b[0;34m]\u001b[0m\u001b[0;34m\u001b[0m\u001b[0;34m\u001b[0m\u001b[0m\n\u001b[0m\u001b[1;32m    665\u001b[0m \u001b[0;34m\u001b[0m\u001b[0m\n\u001b[1;32m    666\u001b[0m     \u001b[0;32mdef\u001b[0m \u001b[0mindex\u001b[0m\u001b[0;34m(\u001b[0m\u001b[0mself\u001b[0m\u001b[0;34m,\u001b[0m \u001b[0mitem\u001b[0m\u001b[0;34m:\u001b[0m \u001b[0mtyping\u001b[0m\u001b[0;34m.\u001b[0m\u001b[0mAny\u001b[0m\u001b[0;34m)\u001b[0m \u001b[0;34m->\u001b[0m \u001b[0mint\u001b[0m\u001b[0;34m:\u001b[0m\u001b[0;34m\u001b[0m\u001b[0;34m\u001b[0m\u001b[0m\n",
      "\u001b[0;32m/opt/homebrew/anaconda3/envs/venv37/lib/python3.7/site-packages/rpy2/robjects/vectors.py\u001b[0m in \u001b[0;36m__getitem__\u001b[0;34m(self, i)\u001b[0m\n\u001b[1;32m    263\u001b[0m \u001b[0;34m\u001b[0m\u001b[0m\n\u001b[1;32m    264\u001b[0m     \u001b[0;32mdef\u001b[0m \u001b[0m__getitem__\u001b[0m\u001b[0;34m(\u001b[0m\u001b[0mself\u001b[0m\u001b[0;34m,\u001b[0m \u001b[0mi\u001b[0m\u001b[0;34m)\u001b[0m\u001b[0;34m:\u001b[0m\u001b[0;34m\u001b[0m\u001b[0;34m\u001b[0m\u001b[0m\n\u001b[0;32m--> 265\u001b[0;31m         \u001b[0mres\u001b[0m \u001b[0;34m=\u001b[0m \u001b[0msuper\u001b[0m\u001b[0;34m(\u001b[0m\u001b[0;34m)\u001b[0m\u001b[0;34m.\u001b[0m\u001b[0m__getitem__\u001b[0m\u001b[0;34m(\u001b[0m\u001b[0mi\u001b[0m\u001b[0;34m)\u001b[0m\u001b[0;34m\u001b[0m\u001b[0;34m\u001b[0m\u001b[0m\n\u001b[0m\u001b[1;32m    266\u001b[0m \u001b[0;34m\u001b[0m\u001b[0m\n\u001b[1;32m    267\u001b[0m         \u001b[0;32mif\u001b[0m \u001b[0misinstance\u001b[0m\u001b[0;34m(\u001b[0m\u001b[0mres\u001b[0m\u001b[0;34m,\u001b[0m \u001b[0mSexp\u001b[0m\u001b[0;34m)\u001b[0m\u001b[0;34m:\u001b[0m\u001b[0;34m\u001b[0m\u001b[0;34m\u001b[0m\u001b[0m\n",
      "\u001b[0;32m/opt/homebrew/anaconda3/envs/venv37/lib/python3.7/site-packages/rpy2/rinterface.py\u001b[0m in \u001b[0;36m__getitem__\u001b[0;34m(self, i)\u001b[0m\n\u001b[1;32m    449\u001b[0m             \u001b[0mself\u001b[0m\u001b[0;34m,\u001b[0m \u001b[0mi\u001b[0m\u001b[0;34m:\u001b[0m \u001b[0mUnion\u001b[0m\u001b[0;34m[\u001b[0m\u001b[0mint\u001b[0m\u001b[0;34m,\u001b[0m \u001b[0mslice\u001b[0m\u001b[0;34m]\u001b[0m\u001b[0;34m\u001b[0m\u001b[0;34m\u001b[0m\u001b[0m\n\u001b[1;32m    450\u001b[0m     ) -> Union[float, 'FloatSexpVector']:\n\u001b[0;32m--> 451\u001b[0;31m         \u001b[0mcdata\u001b[0m \u001b[0;34m=\u001b[0m \u001b[0mself\u001b[0m\u001b[0;34m.\u001b[0m\u001b[0m__sexp__\u001b[0m\u001b[0;34m.\u001b[0m\u001b[0m_cdata\u001b[0m\u001b[0;34m\u001b[0m\u001b[0;34m\u001b[0m\u001b[0m\n\u001b[0m\u001b[1;32m    452\u001b[0m         \u001b[0;32mif\u001b[0m \u001b[0misinstance\u001b[0m\u001b[0;34m(\u001b[0m\u001b[0mi\u001b[0m\u001b[0;34m,\u001b[0m \u001b[0mint\u001b[0m\u001b[0;34m)\u001b[0m\u001b[0;34m:\u001b[0m\u001b[0;34m\u001b[0m\u001b[0;34m\u001b[0m\u001b[0m\n\u001b[1;32m    453\u001b[0m             \u001b[0mi_c\u001b[0m \u001b[0;34m=\u001b[0m \u001b[0m_rinterface\u001b[0m\u001b[0;34m.\u001b[0m\u001b[0m_python_index_to_c\u001b[0m\u001b[0;34m(\u001b[0m\u001b[0mcdata\u001b[0m\u001b[0;34m,\u001b[0m \u001b[0mi\u001b[0m\u001b[0;34m)\u001b[0m\u001b[0;34m\u001b[0m\u001b[0;34m\u001b[0m\u001b[0m\n",
      "\u001b[0;31mKeyboardInterrupt\u001b[0m: "
     ]
    }
   ],
   "source": [
    "np.random.seed(9868)\n",
    "initial0 = [1, 1, 1, 1, 1, 1, 1, 1]\n",
    "results = []\n",
    "\n",
    "\n",
    "for num_iter in range(5):\n",
    "    \n",
    "    # look at the ith iteration\n",
    "    print(num_iter)\n",
    "\n",
    "    begin_time = datetime.datetime.now()\n",
    "    print(begin_time)\n",
    "    \n",
    "    # look at the results of the optimisation\n",
    "    res = minimize(loss_function, initial0, method='Powell', tol=1e-6, options={'disp': True})\n",
    "    print(res.x)\n",
    "    \n",
    "    # look at the time consumed\n",
    "    time = datetime.datetime.now() - begin_time\n",
    "    print(time)\n",
    "    \n",
    "    # look at the losses of moments\n",
    "    moment_loss = pd.DataFrame().reindex_like(n_real_stats)\n",
    "    randseed = np.random.randint(low=0, high=1000000, size=(1,))\n",
    "    n_sim_log_price = n_ou_simulation(\n",
    "        random_seed=int(randseed), num_sim=num_sim,\n",
    "        mu11=params[0], mu12=params[1], mu21=params[2], mu22=params[3],\n",
    "        sigma11=params[4], sigma12=params[5], sigma21=params[6], sigma22=params[7],\n",
    "        xinit=xinit, T0=T0, T=T, length=length)\n",
    "\n",
    "    n_sim_price = log_price_to_price(n_sim_log_price)\n",
    "    n_sim_return = price_to_return(n_sim_price)\n",
    "    n_sim_stats = cal_stats(n_sim_return)\n",
    "\n",
    "    for i in range(n_real_stats.shape[0]):\n",
    "        for j in range(n_real_stats.shape[1]):\n",
    "            moment_loss.iloc[i, j] = np.sqrt((n_real_stats.iloc[i, j] - n_sim_stats.iloc[i, j])**2)\n",
    "\n",
    "    sum_all = np.sum(moment_loss)\n",
    "    print(sum_all)\n",
    "    \n",
    "    results.append([res.x, time, sum_all])"
   ]
  },
  {
   "cell_type": "markdown",
   "id": "4e607883",
   "metadata": {},
   "source": [
    "See the mean and standard deviation of the optimisation results."
   ]
  },
  {
   "cell_type": "code",
   "execution_count": null,
   "id": "155880c0",
   "metadata": {},
   "outputs": [],
   "source": [
    "results_res = []\n",
    "results_time = []\n",
    "results_sum_all = []\n",
    "for i in results:\n",
    "    results_res.append(i[0])\n",
    "    results_time.append(i[1])\n",
    "    results_sum_all.append(i[2])\n",
    "\n",
    "res_mean = pd.DataFrame(results_res).mean(axis=0)\n",
    "res_std  = pd.DataFrame(results_res).std(axis=0)\n",
    "print(res_mean)\n",
    "print(res_std)"
   ]
  },
  {
   "cell_type": "code",
   "execution_count": null,
   "id": "e3693b5f",
   "metadata": {},
   "outputs": [],
   "source": []
  }
 ],
 "metadata": {
  "kernelspec": {
   "display_name": "Python 3",
   "language": "python",
   "name": "python3"
  },
  "language_info": {
   "codemirror_mode": {
    "name": "ipython",
    "version": 3
   },
   "file_extension": ".py",
   "mimetype": "text/x-python",
   "name": "python",
   "nbconvert_exporter": "python",
   "pygments_lexer": "ipython3",
   "version": "3.7.10"
  }
 },
 "nbformat": 4,
 "nbformat_minor": 5
}

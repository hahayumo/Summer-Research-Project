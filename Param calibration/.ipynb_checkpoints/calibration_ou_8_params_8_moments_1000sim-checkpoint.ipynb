{
 "cells": [
  {
   "cell_type": "markdown",
   "id": "b832d715",
   "metadata": {},
   "source": [
    "# Obtain 8 true values of parameters for the Ornstein-Uhlenbeck process by calibrating the model to the real market pair stocks from S&P 500 "
   ]
  },
  {
   "cell_type": "code",
   "execution_count": 1,
   "id": "d8555dab",
   "metadata": {
    "scrolled": true
   },
   "outputs": [],
   "source": [
    "import pandas as pd\n",
    "import numpy as np\n",
    "import random\n",
    "from numpy.random import RandomState\n",
    "from scipy import stats\n",
    "from scipy.optimize import minimize\n",
    "import os\n",
    "os.environ['R_HOME'] = '/Library/Frameworks/R.framework/Versions/4.1/Resources/'\n",
    "import rpy2\n",
    "from rpy2.robjects.packages import importr\n",
    "from rpy2.robjects.packages import SignatureTranslatedAnonymousPackage\n",
    "import datetime\n",
    "from rpy2.robjects.vectors import FloatVector"
   ]
  },
  {
   "cell_type": "markdown",
   "id": "dfaab545",
   "metadata": {},
   "source": [
    "Define the model that generates pair simulations."
   ]
  },
  {
   "cell_type": "code",
   "execution_count": 2,
   "id": "58c7a960",
   "metadata": {},
   "outputs": [],
   "source": [
    "np.random.seed(9868)\n",
    "yuima = importr(\"yuima\")\n",
    "n_ou_sim_string = \"\"\"\n",
    "n_sim_ou = function(random_seed, num_sim,\n",
    "                    mu11, mu12, mu21, mu22,\n",
    "                    sigma11, sigma12, sigma21, sigma22,\n",
    "                    xinit, T0, T, length){\n",
    "  \n",
    "  set.seed(random_seed)\n",
    "  \n",
    "  drift = c(\"mu11-mu12*X1\", \"mu21-mu22*X2\")\n",
    "  diffusion = matrix(c(\"exp(sigma11)\", \"exp(sigma12)\", \"exp(sigma21)\", \"exp(sigma22)\"), 2, 2, byrow=TRUE)\n",
    "  ou_model = setModel(drift=drift, diffusion=diffusion, \n",
    "                        time.variable = \"t\",\n",
    "                        state.var=c(\"X1\",\"X2\"), solve.variable=c(\"X1\",\"X2\"))\n",
    "  \n",
    "  newsamp = setSampling(Initial=T0, Terminal=T, n=length)\n",
    "  \n",
    "  n_sim_ou_data = data.frame(matrix(nrow=length+1, ncol=2*num_sim))\n",
    "  for (i in 1:num_sim){\n",
    "    ou_sim = simulate(ou_model, \n",
    "                      true.par=list(\n",
    "                        mu11=mu11, mu12=mu12, mu21=mu21, mu22=mu22, \n",
    "                        sigma11=sigma11, sigma12=sigma12, sigma21=sigma21, sigma22=sigma22), \n",
    "                      xinit=xinit, sampling=newsamp)\n",
    "    original_data = ou_sim@data@original.data\n",
    "    one_sim_ou = data.frame(original_data[,1], original_data[,2])\n",
    "    colnames(one_sim_ou) = c('series1', 'series2')\n",
    "    n_sim_ou_data[, (2*i-1):(2*i)] = one_sim_ou\n",
    "  }\n",
    "  return(n_sim_ou_data)\n",
    "}\n",
    "\"\"\"\n",
    "\n",
    "n_ou_sim = SignatureTranslatedAnonymousPackage(n_ou_sim_string, \"n_ou_sim\")\n",
    "def n_ou_simulation(random_seed, num_sim,\n",
    "                    mu11, mu12, mu21, mu22, sigma11, sigma12, sigma21, sigma22,\n",
    "                    xinit, T0, T, length):\n",
    "    \"\"\"num_sim simulations of bivariate Ornstein-Uhlenbeck process,\n",
    "    length = length of one series\n",
    "    \"\"\"\n",
    "    n_ou_sim_data = pd.DataFrame(\n",
    "        n_ou_sim.n_sim_ou(random_seed=random_seed, num_sim=num_sim,\n",
    "                              mu11=mu11, mu12=mu12, mu21=mu21, mu22=mu22,\n",
    "                              sigma11=sigma11, sigma12=sigma12, sigma21=sigma21, sigma22=sigma22,\n",
    "                              xinit=xinit, T0=T0, T=T, length=length)).transpose()\n",
    "    return n_ou_sim_data"
   ]
  },
  {
   "cell_type": "markdown",
   "id": "39b57d97",
   "metadata": {},
   "source": [
    "Define some function that transforms price to return or the reverse."
   ]
  },
  {
   "cell_type": "code",
   "execution_count": 3,
   "id": "93d31763",
   "metadata": {},
   "outputs": [],
   "source": [
    "def price_to_log_price(n_price):\n",
    "    return(np.log(n_price))\n",
    "\n",
    "\n",
    "def log_price_to_price(n_log_price):\n",
    "    return(np.exp(n_log_price))\n",
    "\n",
    "\n",
    "def price_to_return(n_price):\n",
    "    n_return = pd.DataFrame()\n",
    "    for i in range(n_price.shape[1]):\n",
    "        ith_column_price_series = n_price.iloc[:, i]\n",
    "        n_return = pd.concat([n_return, 100 * np.log(ith_column_price_series[1:].values / ith_column_price_series[:-1])], axis=1)\n",
    "    return n_return\n",
    "\n",
    "\n",
    "def log_price_to_return(n_log_price):\n",
    "    n_real_return = pd.DataFrame()\n",
    "    for i in range(n_log_price.shape[1]):\n",
    "        ith_column_price_series = n_log_price.iloc[:, i]\n",
    "        n_real_return = pd.concat([n_real_return, 100 * (ith_column_price_series[1:].values - ith_column_price_series[:-1])], axis=1)\n",
    "    return n_real_return"
   ]
  },
  {
   "cell_type": "markdown",
   "id": "5b0c790a",
   "metadata": {},
   "source": [
    "Define the function of transforming returns data into feature statistics (or moments)."
   ]
  },
  {
   "cell_type": "code",
   "execution_count": 4,
   "id": "b57f7a8e",
   "metadata": {},
   "outputs": [],
   "source": [
    "def cal_stats(n_return, n_price=None):\n",
    "    \"\"\" 8 statistics\n",
    "    'skewness' and 'kurtosis' are of different expressions from the course of 'intro to stat finance') \"\"\"\n",
    "\n",
    "    return_series1 = n_return.iloc[:, ::2]\n",
    "    return_series2 = n_return.iloc[:, 1::2]\n",
    "\n",
    "    mean1 = return_series1.mean(axis=0).values\n",
    "    sd1 = return_series1.std(axis=0).values\n",
    "    skew1 = return_series1.skew(axis=0).values\n",
    "    kurtosis1 = return_series1.kurtosis(axis=0).values\n",
    "\n",
    "    mean2 = return_series2.mean(axis=0).values\n",
    "    sd2 = return_series2.std(axis=0).values\n",
    "    skew2 = return_series2.skew(axis=0).values\n",
    "    kurtosis2 = return_series2.kurtosis(axis=0).values\n",
    "\n",
    "    stats_data = pd.DataFrame([mean1, mean2, sd1, sd2, skew1, skew2, kurtosis1, kurtosis2])\n",
    "    stats_data = stats_data.transpose()\n",
    "    stats_data.columns = [\n",
    "        'return_mean1', 'return_mean2',\n",
    "        'return_sd1', 'return_sd2',\n",
    "        'return_skew1', 'return_skew2',\n",
    "        'return_kurtosis1', 'return_kurtosis2']\n",
    "    return stats_data"
   ]
  },
  {
   "cell_type": "markdown",
   "id": "1d29e0a2",
   "metadata": {},
   "source": [
    "Define the loss function as the sum of the absolute differences between moments of real market return data and simulated return data"
   ]
  },
  {
   "cell_type": "code",
   "execution_count": 5,
   "id": "72e80290",
   "metadata": {},
   "outputs": [],
   "source": [
    "def loss_function(params):\n",
    "    \"\"\"n_real_stats is a global amount calculated outside the function\"\"\"\n",
    "\n",
    "    params = FloatVector(params)\n",
    "    moment_loss = pd.DataFrame().reindex_like(n_real_stats)\n",
    "\n",
    "    randseed = np.random.randint(low=0, high=1000000, size=(1,))\n",
    "\n",
    "    n_sim_log_price = n_ou_simulation(\n",
    "        random_seed=int(randseed), num_sim=num_sim,\n",
    "        mu11=params[0], mu12=params[1], mu21=params[2], mu22=params[3],\n",
    "        sigma11=params[4], sigma12=params[5], sigma21=params[6], sigma22=params[7],\n",
    "        xinit=xinit, T0=T0, T=T, length=length)\n",
    "\n",
    "    n_sim_price = log_price_to_price(n_sim_log_price)\n",
    "    n_sim_return = price_to_return(n_sim_price)\n",
    "    n_sim_stats = cal_stats(n_sim_return)\n",
    "\n",
    "    for i in range(n_real_stats.shape[0]):\n",
    "        for j in range(n_real_stats.shape[1]):\n",
    "            moment_loss.iloc[i, j] = np.sqrt((n_real_stats.iloc[i, j] - n_sim_stats.iloc[i, j])**2)\n",
    "\n",
    "    sum_all = np.sum(moment_loss)\n",
    "    return np.sum(sum_all)"
   ]
  },
  {
   "cell_type": "markdown",
   "id": "d5545dd2",
   "metadata": {},
   "source": [
    "Import the real market pair return data and prepare the corresponding initial log-prices of pair stocks for the following simulation and optimisation work."
   ]
  },
  {
   "cell_type": "code",
   "execution_count": 6,
   "id": "4499072c",
   "metadata": {},
   "outputs": [],
   "source": [
    "# 8 params are mu11, mu12, mu21, mu22, sigma11, sigma12, sigma21, sigma22\n",
    "\n",
    "n_real_price = pd.read_csv(\"/Users/changmao/Desktop/real_pair_prices.csv\", index_col=[0])\n",
    "n_real_log_price = price_to_log_price(n_real_price)\n",
    "\n",
    "n_real_return = pd.read_csv(\"/Users/changmao/Desktop/real_pair_returns.csv\", index_col=[0])\n",
    "n_real_stats = cal_stats(n_return=n_real_return, n_price=None)\n",
    "\n",
    "\n",
    "# fixed constants are:\n",
    "xinit = [4, 5]\n",
    "\n",
    "num_sim, T0, T, length = n_real_stats.shape[0], 0, 1, n_real_price.shape[0]\n",
    "# num_sim 248 and length 250"
   ]
  },
  {
   "cell_type": "markdown",
   "id": "fed3da09",
   "metadata": {},
   "source": [
    "The calibration process can be seen as a process of seeking for a set of values of the parameters such that the simulations are the closest to the real data in a sense that the feature statistics of simulations are matched with those of real returns such that the total losses  are minimised. Also, we'll see the losses of moments."
   ]
  },
  {
   "cell_type": "code",
   "execution_count": 7,
   "id": "f8095699",
   "metadata": {},
   "outputs": [
    {
     "name": "stdout",
     "output_type": "stream",
     "text": [
      "Optimization terminated successfully.\n",
      "         Current function value: 3434.890433\n",
      "         Iterations: 4\n",
      "         Function evaluations: 803\n",
      "[ 2.82169798  0.66376493  3.08320054  0.61614326 -1.89944112 -1.7523584\n",
      " -6.42814383 -1.34681831]\n",
      "0:22:26.613966\n",
      "return_mean1          26.896966\n",
      "return_mean2          28.324004\n",
      "return_sd1            88.362212\n",
      "return_sd2           100.223226\n",
      "return_skew1         159.289464\n",
      "return_skew2         218.317354\n",
      "return_kurtosis1    1141.868824\n",
      "return_kurtosis2    1701.106498\n",
      "dtype: float64\n"
     ]
    }
   ],
   "source": [
    "np.random.seed(9868)\n",
    "\n",
    "initial0 = [1, 1, 1, 1, 1, 1, 1, 1]\n",
    "\n",
    "# Look at the optimisation results\n",
    "begin_time = datetime.datetime.now()\n",
    "res = minimize(loss_function, initial0, method='Powell', \n",
    "               tol=1e-6, options={'disp': True})\n",
    "print(res.x)\n",
    "    \n",
    "# Look at the running time\n",
    "time = datetime.datetime.now() - begin_time\n",
    "print(time)\n",
    "    \n",
    "# Look at the scales of losses of different moments\n",
    "np.random.seed(9868)\n",
    "params = (res.x)\n",
    "params = FloatVector(params)\n",
    "moment_loss = pd.DataFrame().reindex_like(n_real_stats)\n",
    "randseed = np.random.randint(low=0, high=1000000, size=(1,))\n",
    "n_sim_log_price = n_ou_simulation(\n",
    "    random_seed=int(randseed), num_sim=num_sim,\n",
    "    mu11=params[0], mu12=params[1], mu21=params[2], mu22=params[3],\n",
    "    sigma11=params[4], sigma12=params[5], sigma21=params[6], sigma22=params[7],\n",
    "    xinit=xinit, T0=T0, T=T, length=length)\n",
    "\n",
    "n_sim_price = log_price_to_price(n_sim_log_price)\n",
    "n_sim_return = price_to_return(n_sim_price)\n",
    "n_sim_stats = cal_stats(n_sim_return)\n",
    "\n",
    "for k in range(n_real_stats.shape[0]):\n",
    "    for j in range(n_real_stats.shape[1]):\n",
    "        moment_loss.iloc[k, j] = np.sqrt((n_real_stats.iloc[k, j] - \n",
    "                                          n_sim_stats.iloc[k, j])**2)\n",
    "        \n",
    "sum_all = np.sum(moment_loss)\n",
    "print(sum_all)"
   ]
  },
  {
   "cell_type": "markdown",
   "id": "426e1a49",
   "metadata": {},
   "source": [
    "Save the simulated data."
   ]
  },
  {
   "cell_type": "code",
   "execution_count": 8,
   "id": "2e5766b5",
   "metadata": {},
   "outputs": [],
   "source": [
    "n_sim_price.to_csv(\"ou_8params_price.csv\")\n",
    "n_sim_return.to_csv(\"ou_8params_return.csv\")"
   ]
  },
  {
   "cell_type": "markdown",
   "id": "597af4c8",
   "metadata": {},
   "source": [
    "# Simulation Study"
   ]
  },
  {
   "cell_type": "markdown",
   "id": "06f13ac4",
   "metadata": {},
   "source": [
    "Set values. We will do a simulation study by generating pair series 1000 times with length of each series 250 (approx one-year data in real market)."
   ]
  },
  {
   "cell_type": "code",
   "execution_count": 9,
   "id": "5c24dfa5",
   "metadata": {},
   "outputs": [],
   "source": [
    "random_seed = 9868\n",
    "\n",
    "mu11, mu12, mu21, mu22, sigma11, sigma12, sigma21, sigma22 = params\n",
    "\n",
    "num_sim, T0, T, length = 1000, 0, 1, 250"
   ]
  },
  {
   "cell_type": "markdown",
   "id": "a6b62251",
   "metadata": {},
   "source": [
    "Set the simulation generated from the model with the obtained parameters as the real data."
   ]
  },
  {
   "cell_type": "code",
   "execution_count": 10,
   "id": "df72f5e3",
   "metadata": {},
   "outputs": [],
   "source": [
    "np.random.seed(9868)\n",
    "n_real_log_price = n_ou_simulation(\n",
    "    random_seed=random_seed, num_sim=num_sim,\n",
    "    mu11=mu11, mu12=mu12, mu21=mu21, mu22=mu22,\n",
    "    sigma11=sigma11, sigma12=sigma12, sigma21=sigma21, sigma22=sigma22,\n",
    "    xinit=xinit, T0=T0, T=T, length=length)\n",
    "n_real_price = log_price_to_price(n_log_price=n_real_log_price)\n",
    "n_real_return = price_to_return(n_price=n_real_price)\n",
    "n_real_stats = cal_stats(n_return=n_real_return, n_price=None)"
   ]
  },
  {
   "cell_type": "markdown",
   "id": "dd82ddf4",
   "metadata": {},
   "source": [
    "See the effect on the losses by different moments"
   ]
  },
  {
   "cell_type": "code",
   "execution_count": 11,
   "id": "a030e548",
   "metadata": {},
   "outputs": [
    {
     "name": "stdout",
     "output_type": "stream",
     "text": [
      "(2.8216979771538244, 0.6637649277493886, 3.0832005350682827, 0.6161432636991623, -1.8994411153385518, -1.752358395920263, -6.428143827987734, -1.346818311131768) 1328.4470313397755\n",
      "(1.8216979771538244, 0.6637649277493886, 3.0832005350682827, 0.6161432636991623, -1.8994411153385518, -1.752358395920263, -6.428143827987734, -1.346818311131768) 1551.6480320451828\n",
      "(3.8216979771538244, 0.6637649277493886, 3.0832005350682827, 0.6161432636991623, -1.8994411153385518, -1.752358395920263, -6.428143827987734, -1.346818311131768) 1543.7342997323685\n",
      "(2.8216979771538244, -0.33623507225061144, 3.0832005350682827, 0.6161432636991623, -1.8994411153385518, -1.752358395920263, -6.428143827987734, -1.346818311131768) 3204.918704124893\n",
      "(2.8216979771538244, 1.6637649277493884, 3.0832005350682827, 0.6161432636991623, -1.8994411153385518, -1.752358395920263, -6.428143827987734, -1.346818311131768) 2074.7572775474027\n",
      "(2.8216979771538244, 0.6637649277493886, 2.0832005350682827, 0.6161432636991623, -1.8994411153385518, -1.752358395920263, -6.428143827987734, -1.346818311131768) 1562.103865114156\n",
      "(2.8216979771538244, 0.6637649277493886, 4.083200535068283, 0.6161432636991623, -1.8994411153385518, -1.752358395920263, -6.428143827987734, -1.346818311131768) 1571.1975185626777\n",
      "(2.8216979771538244, 0.6637649277493886, 3.0832005350682827, -0.3838567363008377, -1.8994411153385518, -1.752358395920263, -6.428143827987734, -1.346818311131768) 3696.5658285412637\n",
      "(2.8216979771538244, 0.6637649277493886, 3.0832005350682827, 1.6161432636991622, -1.8994411153385518, -1.752358395920263, -6.428143827987734, -1.346818311131768) 2273.1523238195164\n",
      "(2.8216979771538244, 0.6637649277493886, 3.0832005350682827, 0.6161432636991623, -2.8994411153385515, -1.752358395920263, -6.428143827987734, -1.346818311131768) 1543.5252647353595\n",
      "(2.8216979771538244, 0.6637649277493886, 3.0832005350682827, 0.6161432636991623, -0.8994411153385518, -1.752358395920263, -6.428143827987734, -1.346818311131768) 2639.334906217691\n",
      "(2.8216979771538244, 0.6637649277493886, 3.0832005350682827, 0.6161432636991623, -1.8994411153385518, -2.752358395920263, -6.428143827987734, -1.346818311131768) 1673.7612899896944\n",
      "(2.8216979771538244, 0.6637649277493886, 3.0832005350682827, 0.6161432636991623, -1.8994411153385518, -0.7523583959202631, -6.428143827987734, -1.346818311131768) 3016.8289723920625\n",
      "(2.8216979771538244, 0.6637649277493886, 3.0832005350682827, 0.6161432636991623, -1.8994411153385518, -1.752358395920263, -7.428143827987734, -1.346818311131768) 1316.479169698854\n",
      "(2.8216979771538244, 0.6637649277493886, 3.0832005350682827, 0.6161432636991623, -1.8994411153385518, -1.752358395920263, -5.428143827987734, -1.346818311131768) 1332.5735438479667\n",
      "(2.8216979771538244, 0.6637649277493886, 3.0832005350682827, 0.6161432636991623, -1.8994411153385518, -1.752358395920263, -6.428143827987734, -2.346818311131768) 2303.1261772548646\n",
      "(2.8216979771538244, 0.6637649277493886, 3.0832005350682827, 0.6161432636991623, -1.8994411153385518, -1.752358395920263, -6.428143827987734, -0.346818311131768) 4172.086993998337\n"
     ]
    }
   ],
   "source": [
    "np.random.seed(9868)\n",
    "\n",
    "params_vec = [(mu11, mu12, mu21, mu22, sigma11, sigma12, sigma21, sigma22),\n",
    "              (mu11-1, mu12, mu21, mu22, sigma11, sigma12, sigma21, sigma22),\n",
    "              (mu11+1, mu12, mu21, mu22, sigma11, sigma12, sigma21, sigma22),\n",
    "              (mu11, mu12-1, mu21, mu22, sigma11, sigma12, sigma21, sigma22),\n",
    "              (mu11, mu12+1, mu21, mu22, sigma11, sigma12, sigma21, sigma22),\n",
    "              (mu11, mu12, mu21-1, mu22, sigma11, sigma12, sigma21, sigma22),\n",
    "              (mu11, mu12, mu21+1, mu22, sigma11, sigma12, sigma21, sigma22),\n",
    "              (mu11, mu12, mu21, mu22-1, sigma11, sigma12, sigma21, sigma22),\n",
    "              (mu11, mu12, mu21, mu22+1, sigma11, sigma12, sigma21, sigma22),\n",
    "              (mu11, mu12, mu21, mu22, sigma11-1, sigma12, sigma21, sigma22),\n",
    "              (mu11, mu12, mu21, mu22, sigma11+1, sigma12, sigma21, sigma22),\n",
    "              (mu11, mu12, mu21, mu22, sigma11, sigma12-1, sigma21, sigma22),\n",
    "              (mu11, mu12, mu21, mu22, sigma11, sigma12+1, sigma21, sigma22),\n",
    "              (mu11, mu12, mu21, mu22, sigma11, sigma12, sigma21-1, sigma22),\n",
    "              (mu11, mu12, mu21, mu22, sigma11, sigma12, sigma21+1, sigma22),\n",
    "              (mu11, mu12, mu21, mu22, sigma11, sigma12, sigma21, sigma22-1),\n",
    "              (mu11, mu12, mu21, mu22, sigma11, sigma12, sigma21, sigma22+1)]\n",
    "for i in params_vec:\n",
    "    print(i, loss_function(i))"
   ]
  },
  {
   "cell_type": "markdown",
   "id": "4d6cf2ab",
   "metadata": {},
   "source": [
    "We can iterate the optimisation 5 times and see the results."
   ]
  },
  {
   "cell_type": "code",
   "execution_count": 12,
   "id": "5b1237bc",
   "metadata": {
    "scrolled": true
   },
   "outputs": [
    {
     "name": "stdout",
     "output_type": "stream",
     "text": [
      "0\n",
      "2021-08-02 07:20:53.167359\n",
      "Optimization terminated successfully.\n",
      "         Current function value: 1308.563804\n",
      "         Iterations: 4\n",
      "         Function evaluations: 798\n",
      "[ 6.40007547  1.52238459  3.47488704  0.6803938  -2.52704227 -1.55554591\n",
      " -8.8223255  -1.34309821]\n",
      "1:40:41.119404\n",
      "return_mean1         75.642957\n",
      "return_mean2         87.702444\n",
      "return_sd1           72.349493\n",
      "return_sd2           82.259036\n",
      "return_skew1        173.305309\n",
      "return_skew2        167.346598\n",
      "return_kurtosis1    336.750331\n",
      "return_kurtosis2    334.240887\n",
      "dtype: float64\n",
      "1\n",
      "2021-08-02 09:01:41.651728\n",
      "Optimization terminated successfully.\n",
      "         Current function value: 1347.210021\n",
      "         Iterations: 5\n",
      "         Function evaluations: 1062\n",
      "[  6.15325767   1.476121     2.1667804    0.46550889  -2.38623937\n",
      "  -1.61144147 -12.1258533   -1.39092895]\n",
      "2:51:05.721128\n",
      "return_mean1         72.289030\n",
      "return_mean2         89.886367\n",
      "return_sd1           73.260581\n",
      "return_sd2           81.888842\n",
      "return_skew1        173.582128\n",
      "return_skew2        176.259787\n",
      "return_kurtosis1    340.595703\n",
      "return_kurtosis2    319.010424\n",
      "dtype: float64\n",
      "2\n",
      "2021-08-02 11:52:55.023008\n",
      "Optimization terminated successfully.\n",
      "         Current function value: 1316.590167\n",
      "         Iterations: 4\n",
      "         Function evaluations: 838\n",
      "[ 9.69621205  2.30730558  2.48349261  0.51775604 -3.60320618 -1.47944804\n",
      " -3.29143199 -1.35693428]\n",
      "1:39:12.781231\n",
      "return_mean1         76.295987\n",
      "return_mean2         90.231437\n",
      "return_sd1           71.028114\n",
      "return_sd2           83.694516\n",
      "return_skew1        170.082837\n",
      "return_skew2        173.450400\n",
      "return_kurtosis1    339.120056\n",
      "return_kurtosis2    336.899936\n",
      "dtype: float64\n",
      "3\n",
      "2021-08-02 13:32:14.818974\n",
      "Optimization terminated successfully.\n",
      "         Current function value: 1305.862870\n",
      "         Iterations: 4\n",
      "         Function evaluations: 762\n",
      "[ 8.29970742  2.06926175  9.38962567  1.87887063 -5.32011111 -1.48878053\n",
      " -1.73181305 -1.70951021]\n",
      "1:28:59.551155\n",
      "return_mean1         76.392463\n",
      "return_mean2         92.490329\n",
      "return_sd1           71.844699\n",
      "return_sd2           85.091047\n",
      "return_skew1        180.682281\n",
      "return_skew2        172.187999\n",
      "return_kurtosis1    333.392148\n",
      "return_kurtosis2    341.568716\n",
      "dtype: float64\n",
      "4\n",
      "2021-08-02 15:01:21.347236\n",
      "Optimization terminated successfully.\n",
      "         Current function value: 1320.235645\n",
      "         Iterations: 3\n",
      "         Function evaluations: 557\n",
      "[ 1.6506844   0.35618775  5.43736014  1.06946794 -2.32522399 -1.59480479\n",
      " -6.47112009 -1.33851432]\n",
      "1:05:18.208358\n",
      "return_mean1         74.346466\n",
      "return_mean2         87.396163\n",
      "return_sd1           70.719557\n",
      "return_sd2           83.060360\n",
      "return_skew1        172.964360\n",
      "return_skew2        171.255982\n",
      "return_kurtosis1    336.624196\n",
      "return_kurtosis2    330.610660\n",
      "dtype: float64\n"
     ]
    }
   ],
   "source": [
    "np.random.seed(9868)\n",
    "initial0 = [1, 1, 1, 1, 1, 1, 1, 1]\n",
    "results = []\n",
    "\n",
    "\n",
    "for num_iter in range(5):\n",
    "    \n",
    "    # look at the ith iteration\n",
    "    print(num_iter)\n",
    "\n",
    "    begin_time = datetime.datetime.now()\n",
    "    print(begin_time)\n",
    "    \n",
    "    # look at the results of the optimisation\n",
    "    res = minimize(loss_function, initial0, method='Powell', tol=1e-6, options={'disp': True})\n",
    "    print(res.x)\n",
    "    \n",
    "    # look at the time consumed\n",
    "    time = datetime.datetime.now() - begin_time\n",
    "    print(time)\n",
    "    \n",
    "    # look at the losses of moments\n",
    "    moment_loss = pd.DataFrame().reindex_like(n_real_stats)\n",
    "    randseed = np.random.randint(low=0, high=1000000, size=(1,))\n",
    "    n_sim_log_price = n_ou_simulation(\n",
    "        random_seed=int(randseed), num_sim=num_sim,\n",
    "        mu11=params[0], mu12=params[1], mu21=params[2], mu22=params[3],\n",
    "        sigma11=params[4], sigma12=params[5], sigma21=params[6], sigma22=params[7],\n",
    "        xinit=xinit, T0=T0, T=T, length=length)\n",
    "\n",
    "    n_sim_price = log_price_to_price(n_sim_log_price)\n",
    "    n_sim_return = price_to_return(n_sim_price)\n",
    "    n_sim_stats = cal_stats(n_sim_return)\n",
    "\n",
    "    for i in range(n_real_stats.shape[0]):\n",
    "        for j in range(n_real_stats.shape[1]):\n",
    "            moment_loss.iloc[i, j] = np.sqrt((n_real_stats.iloc[i, j] - n_sim_stats.iloc[i, j])**2)\n",
    "\n",
    "    sum_all = np.sum(moment_loss)\n",
    "    print(sum_all)\n",
    "    \n",
    "    results.append([res.x, time, sum_all])"
   ]
  },
  {
   "cell_type": "markdown",
   "id": "4e607883",
   "metadata": {},
   "source": [
    "See the mean and standard deviation of the optimisation results."
   ]
  },
  {
   "cell_type": "code",
   "execution_count": 13,
   "id": "155880c0",
   "metadata": {},
   "outputs": [
    {
     "name": "stdout",
     "output_type": "stream",
     "text": [
      "0    6.439987\n",
      "1    1.546252\n",
      "2    4.590429\n",
      "3    0.922399\n",
      "4   -3.232365\n",
      "5   -1.546004\n",
      "6   -6.488509\n",
      "7   -1.427797\n",
      "dtype: float64\n",
      "0    3.044782\n",
      "1    0.754069\n",
      "2    2.970996\n",
      "3    0.584705\n",
      "4    1.277940\n",
      "5    0.060122\n",
      "6    4.185514\n",
      "7    0.158815\n",
      "dtype: float64\n"
     ]
    }
   ],
   "source": [
    "results_res = []\n",
    "results_time = []\n",
    "results_sum_all = []\n",
    "for i in results:\n",
    "    results_res.append(i[0])\n",
    "    results_time.append(i[1])\n",
    "    results_sum_all.append(i[2])\n",
    "\n",
    "res_mean = pd.DataFrame(results_res).mean(axis=0)\n",
    "res_std  = pd.DataFrame(results_res).std(axis=0)\n",
    "print(res_mean)\n",
    "print(res_std)"
   ]
  },
  {
   "cell_type": "code",
   "execution_count": 15,
   "id": "e3693b5f",
   "metadata": {},
   "outputs": [
    {
     "data": {
      "text/plain": [
       "array([ 2.82169798,  0.66376493,  3.08320054,  0.61614326, -1.89944112,\n",
       "       -1.7523584 , -6.42814383, -1.34681831])"
      ]
     },
     "execution_count": 15,
     "metadata": {},
     "output_type": "execute_result"
    }
   ],
   "source": [
    "np.array(params)"
   ]
  }
 ],
 "metadata": {
  "kernelspec": {
   "display_name": "Python 3",
   "language": "python",
   "name": "python3"
  },
  "language_info": {
   "codemirror_mode": {
    "name": "ipython",
    "version": 3
   },
   "file_extension": ".py",
   "mimetype": "text/x-python",
   "name": "python",
   "nbconvert_exporter": "python",
   "pygments_lexer": "ipython3",
   "version": "3.7.10"
  }
 },
 "nbformat": 4,
 "nbformat_minor": 5
}

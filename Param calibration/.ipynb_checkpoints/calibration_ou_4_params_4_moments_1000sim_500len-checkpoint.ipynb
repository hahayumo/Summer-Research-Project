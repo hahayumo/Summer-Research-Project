{
 "cells": [
  {
   "cell_type": "markdown",
   "id": "dcdec227",
   "metadata": {},
   "source": [
    "# Obtain 4 true values of parameters for the Ornstein-Uhlenbeck process by calibrating the model to the real market pair stocks from S&P 500 "
   ]
  },
  {
   "cell_type": "code",
   "execution_count": 1,
   "id": "d8555dab",
   "metadata": {
    "scrolled": true
   },
   "outputs": [],
   "source": [
    "import pandas as pd\n",
    "import numpy as np\n",
    "import random\n",
    "from numpy.random import RandomState\n",
    "from scipy import stats\n",
    "from scipy.optimize import minimize\n",
    "import os\n",
    "os.environ['R_HOME'] = '/Library/Frameworks/R.framework/Versions/4.1/Resources/'\n",
    "import rpy2\n",
    "from rpy2.robjects.packages import importr\n",
    "from rpy2.robjects.packages import SignatureTranslatedAnonymousPackage\n",
    "import datetime\n",
    "from rpy2.robjects.vectors import FloatVector"
   ]
  },
  {
   "cell_type": "markdown",
   "id": "5807d6fe",
   "metadata": {},
   "source": [
    "Define the model that generates pair simulations."
   ]
  },
  {
   "cell_type": "code",
   "execution_count": 2,
   "id": "58c7a960",
   "metadata": {},
   "outputs": [],
   "source": [
    "np.random.seed(9868)\n",
    "yuima = importr(\"yuima\")\n",
    "n_ou_sim_string = \"\"\"\n",
    "n_sim_ou = function(random_seed, num_sim,\n",
    "                    mu11, mu12, mu21, mu22,\n",
    "                    sigma11, sigma12, sigma21, sigma22,\n",
    "                    xinit, T0, T, length){\n",
    "  \n",
    "  set.seed(random_seed)\n",
    "  \n",
    "  drift = c(\"mu11-mu12*X1\", \"mu21-mu22*X2\")\n",
    "  diffusion = matrix(c(\"exp(sigma11)\", \"exp(sigma12)\", \"exp(sigma21)\", \"exp(sigma22)\"), 2, 2, byrow=TRUE)\n",
    "  ou_model = setModel(drift=drift, diffusion=diffusion, \n",
    "                        time.variable = \"t\",\n",
    "                        state.var=c(\"X1\",\"X2\"), solve.variable=c(\"X1\",\"X2\"))\n",
    "  \n",
    "  newsamp = setSampling(Initial=T0, Terminal=T, n=length)\n",
    "  \n",
    "  n_sim_ou_data = data.frame(matrix(nrow=length+1, ncol=2*num_sim))\n",
    "  for (i in 1:num_sim){\n",
    "    ou_sim = simulate(ou_model, \n",
    "                      true.par=list(\n",
    "                        mu11=mu11, mu12=mu12, mu21=mu21, mu22=mu22, \n",
    "                        sigma11=sigma11, sigma12=sigma12, sigma21=sigma21, sigma22=sigma22), \n",
    "                      xinit=xinit, sampling=newsamp)\n",
    "    original_data = ou_sim@data@original.data\n",
    "    one_sim_ou = data.frame(original_data[,1], original_data[,2])\n",
    "    colnames(one_sim_ou) = c('series1', 'series2')\n",
    "    n_sim_ou_data[, (2*i-1):(2*i)] = one_sim_ou\n",
    "  }\n",
    "  return(n_sim_ou_data)\n",
    "}\n",
    "\"\"\"\n",
    "\n",
    "n_ou_sim = SignatureTranslatedAnonymousPackage(n_ou_sim_string, \"n_ou_sim\")\n",
    "def n_ou_simulation(random_seed, num_sim,\n",
    "                    mu11, mu12, mu21, mu22, sigma11, sigma12, sigma21, sigma22,\n",
    "                    xinit, T0, T, length):\n",
    "    \"\"\"num_sim simulations of bivariate Ornstein-Uhlenbeck process,\n",
    "    length = length of one series\n",
    "    \"\"\"\n",
    "    n_ou_sim_data = pd.DataFrame(\n",
    "        n_ou_sim.n_sim_ou(random_seed=random_seed, num_sim=num_sim,\n",
    "                              mu11=mu11, mu12=mu12, mu21=mu21, mu22=mu22,\n",
    "                              sigma11=sigma11, sigma12=sigma12, sigma21=sigma21, sigma22=sigma22,\n",
    "                              xinit=xinit, T0=T0, T=T, length=length)).transpose()\n",
    "    return n_ou_sim_data"
   ]
  },
  {
   "cell_type": "markdown",
   "id": "322a235a",
   "metadata": {},
   "source": [
    "Define some function that transforms price to return or the reverse."
   ]
  },
  {
   "cell_type": "code",
   "execution_count": 3,
   "id": "d1245ac5",
   "metadata": {},
   "outputs": [],
   "source": [
    "def price_to_log_price(n_price):\n",
    "    return(np.log(n_price))\n",
    "\n",
    "\n",
    "def log_price_to_price(n_log_price):\n",
    "    return(np.exp(n_log_price))\n",
    "\n",
    "\n",
    "def price_to_return(n_price):\n",
    "    n_return = pd.DataFrame()\n",
    "    for i in range(n_price.shape[1]):\n",
    "        ith_column_price_series = n_price.iloc[:, i]\n",
    "        n_return = pd.concat([n_return, 100 * np.log(ith_column_price_series[1:].values / ith_column_price_series[:-1])], axis=1)\n",
    "    return n_return\n",
    "\n",
    "\n",
    "def log_price_to_return(n_log_price):\n",
    "    n_real_return = pd.DataFrame()\n",
    "    for i in range(n_log_price.shape[1]):\n",
    "        ith_column_price_series = n_log_price.iloc[:, i]\n",
    "        n_real_return = pd.concat([n_real_return, 100 * (ith_column_price_series[1:].values - ith_column_price_series[:-1])], axis=1)\n",
    "    return n_real_return"
   ]
  },
  {
   "cell_type": "markdown",
   "id": "9b1430f2",
   "metadata": {},
   "source": [
    "Define the function of transforming returns data into feature statistics (or moments)."
   ]
  },
  {
   "cell_type": "code",
   "execution_count": 4,
   "id": "0aa05a02",
   "metadata": {},
   "outputs": [],
   "source": [
    "def cal_stats(n_return, n_price=None):\n",
    "    \"\"\" 'mean' and 'sd' checked\n",
    "    (different expressions of calculation from intro to stat finance)\n",
    "    4 statistics\n",
    "    \"\"\"\n",
    "\n",
    "    return_series1 = n_return.iloc[:, ::2]\n",
    "    return_series2 = n_return.iloc[:, 1::2]\n",
    "\n",
    "    mean1 = return_series1.mean(axis=0).values\n",
    "    sd1 = return_series1.std(axis=0).values\n",
    "\n",
    "    mean2 = return_series2.mean(axis=0).values\n",
    "    sd2 = return_series2.std(axis=0).values\n",
    "\n",
    "    stats_data = pd.DataFrame([mean1, mean2, sd1, sd2])\n",
    "    stats_data = stats_data.transpose()\n",
    "    stats_data.columns = [\n",
    "        'return_mean1', 'return_mean2',\n",
    "        'return_sd1', 'return_sd2']\n",
    "    return stats_data"
   ]
  },
  {
   "cell_type": "markdown",
   "id": "a1cf2e6c",
   "metadata": {},
   "source": [
    "Define the loss function as the sum of the absolute differences between moments of real market return data and simulated return data"
   ]
  },
  {
   "cell_type": "code",
   "execution_count": 5,
   "id": "601c3b6e",
   "metadata": {},
   "outputs": [],
   "source": [
    "def loss_function(params):\n",
    "    \"\"\"n_real_stats is a global amount calculated outside the function\"\"\"\n",
    "\n",
    "    params = FloatVector(params)\n",
    "    moment_loss = pd.DataFrame().reindex_like(n_real_stats)\n",
    "\n",
    "    randseed = np.random.randint(low=0, high=1000000, size=(1,))\n",
    "\n",
    "    n_sim_log_price = n_ou_simulation(\n",
    "        random_seed=int(randseed), num_sim=num_sim,\n",
    "        mu11=mu11, mu12=params[0], mu21=mu21, mu22=params[1],\n",
    "        sigma11=params[2], sigma12=sigma12, sigma21=sigma21, sigma22=params[3],\n",
    "        xinit=xinit, T0=T0, T=T, length=length)\n",
    "\n",
    "    n_sim_price = log_price_to_price(n_sim_log_price)\n",
    "    n_sim_return = price_to_return(n_sim_price)\n",
    "    n_sim_stats = cal_stats(n_sim_return)\n",
    "\n",
    "    for i in range(n_real_stats.shape[0]):\n",
    "        for j in range(n_real_stats.shape[1]):\n",
    "            moment_loss.iloc[i, j] = np.sqrt((n_real_stats.iloc[i, j] - n_sim_stats.iloc[i, j])**2)\n",
    "\n",
    "    sum_all = np.sum(moment_loss)\n",
    "    return np.sum(sum_all)"
   ]
  },
  {
   "cell_type": "markdown",
   "id": "e6c6bc1f",
   "metadata": {},
   "source": [
    "Import the real market pair return data and prepare the corresponding initial log-prices of pair stocks for the following simulation and optimisation work."
   ]
  },
  {
   "cell_type": "code",
   "execution_count": 6,
   "id": "4499072c",
   "metadata": {},
   "outputs": [],
   "source": [
    "# 4 params are: mu12, mu22, sigma11, sigma22\n",
    "\n",
    "n_real_price = pd.read_csv(\"/Users/changmao/Desktop/real_pair_prices.csv\", index_col=[0])\n",
    "n_real_log_price = price_to_log_price(n_real_price)\n",
    "\n",
    "n_real_return = pd.read_csv(\"/Users/changmao/Desktop/real_pair_returns.csv\", index_col=[0])\n",
    "n_real_stats = cal_stats(n_return=n_real_return, n_price=None)\n",
    "\n",
    "# fixed constants are:\n",
    "mu11, mu21, sigma12, sigma21 = 0, 0, -1000, -1000\n",
    "\n",
    "xinit = [4, 5]\n",
    "\n",
    "num_sim, T0, T, length = n_real_stats.shape[0], 0, 1, n_real_price.shape[0]\n",
    "# num_sim 248 and length 250"
   ]
  },
  {
   "cell_type": "markdown",
   "id": "fed3da09",
   "metadata": {},
   "source": [
    "The calibration process can be seen as a process of seeking for a set of values of the parameters such that the simulations are the closest to the real data in a sense that the feature statistics of simulations are matched with those of real returns such that the total losses  are minimised. Also, we will see the losses of moments."
   ]
  },
  {
   "cell_type": "code",
   "execution_count": 7,
   "id": "2fb583d5",
   "metadata": {},
   "outputs": [
    {
     "name": "stdout",
     "output_type": "stream",
     "text": [
      "Optimization terminated successfully.\n",
      "         Current function value: 233.220121\n",
      "         Iterations: 4\n",
      "         Function evaluations: 439\n",
      "[ 0.03688579  0.04047083 -1.41181529 -1.35737122]\n",
      "0:11:28.945847\n",
      "return_mean1     25.515423\n",
      "return_mean2     29.172108\n",
      "return_sd1       81.002589\n",
      "return_sd2      100.679635\n",
      "dtype: float64\n"
     ]
    }
   ],
   "source": [
    "np.random.seed(9868)\n",
    "\n",
    "initial0 = [1, 1, 1, 1]\n",
    "    \n",
    "# Look at the optimisation results\n",
    "begin_time = datetime.datetime.now()\n",
    "res = minimize(loss_function, initial0, method='Powell', \n",
    "               tol=1e-6, options={'disp': True})\n",
    "print(res.x)\n",
    "    \n",
    "# Look at the running time\n",
    "time = datetime.datetime.now() - begin_time\n",
    "print(time)\n",
    "    \n",
    "# Look at the scales of losses of different moments\n",
    "np.random.seed(9868)\n",
    "params = (res.x)\n",
    "params = FloatVector(params)\n",
    "moment_loss = pd.DataFrame().reindex_like(n_real_stats)\n",
    "randseed = np.random.randint(low=0, high=1000000, size=(1,))\n",
    "n_sim_log_price = n_ou_simulation(\n",
    "    random_seed=int(randseed), num_sim=num_sim,\n",
    "    mu11=mu11, mu12=params[0], mu21=mu21, mu22=params[1],\n",
    "    sigma11=params[2], sigma12=sigma12, sigma21=sigma21, sigma22=params[3],\n",
    "    xinit=xinit, T0=T0, T=T, length=length)\n",
    "\n",
    "n_sim_price = log_price_to_price(n_sim_log_price)\n",
    "n_sim_return = price_to_return(n_sim_price)\n",
    "n_sim_stats = cal_stats(n_sim_return)\n",
    "\n",
    "for k in range(n_real_stats.shape[0]):\n",
    "    for j in range(n_real_stats.shape[1]):\n",
    "        moment_loss.iloc[k, j] = np.sqrt((n_real_stats.iloc[k, j] - \n",
    "                                          n_sim_stats.iloc[k, j])**2)\n",
    "        \n",
    "sum_all = np.sum(moment_loss)\n",
    "print(sum_all)"
   ]
  },
  {
   "cell_type": "code",
   "execution_count": 8,
   "id": "af74bee1",
   "metadata": {},
   "outputs": [],
   "source": [
    "n_sim_price.to_csv(\"ou_4params_price.csv\")\n",
    "n_sim_return.to_csv(\"ou_4params_return.csv\")"
   ]
  },
  {
   "cell_type": "markdown",
   "id": "ef60bed4",
   "metadata": {},
   "source": [
    "# Simulation Study"
   ]
  },
  {
   "cell_type": "markdown",
   "id": "ed0f7b9d",
   "metadata": {},
   "source": [
    "Set values. We will do a simulation study by generating pair series 1000 times with length of each series 250 (approx one-year data in real market)."
   ]
  },
  {
   "cell_type": "code",
   "execution_count": 9,
   "id": "1c9db0b7",
   "metadata": {},
   "outputs": [],
   "source": [
    "random_seed = 9868\n",
    "\n",
    "mu12, mu22, sigma11, sigma22 = params\n",
    "\n",
    "num_sim, T0, T, length = 1000, 0, 1, 500"
   ]
  },
  {
   "cell_type": "markdown",
   "id": "82f07ae7",
   "metadata": {},
   "source": [
    "Set the simulation generated from the model with the obtained parameters as the real data."
   ]
  },
  {
   "cell_type": "code",
   "execution_count": 10,
   "id": "13022aaf",
   "metadata": {},
   "outputs": [],
   "source": [
    "np.random.seed(9868)\n",
    "n_real_log_price = n_ou_simulation(\n",
    "    random_seed=random_seed, num_sim=num_sim,\n",
    "    mu11=mu11, mu12=mu12, mu21=mu21, mu22=mu22,\n",
    "    sigma11=sigma11, sigma12=sigma12, sigma21=sigma21, sigma22=sigma22,\n",
    "    xinit=xinit, T0=T0, T=T, length=length)\n",
    "n_real_price = log_price_to_price(n_log_price=n_real_log_price)\n",
    "n_real_return = price_to_return(n_price=n_real_price)\n",
    "n_real_stats = cal_stats(n_return=n_real_return, n_price=None)"
   ]
  },
  {
   "cell_type": "markdown",
   "id": "dda86fea",
   "metadata": {},
   "source": [
    "See the effect on the losses by different moments"
   ]
  },
  {
   "cell_type": "code",
   "execution_count": 11,
   "id": "c0bdadfa",
   "metadata": {},
   "outputs": [
    {
     "name": "stdout",
     "output_type": "stream",
     "text": [
      "(0.03688578743317087, 0.040470825919993736, -1.4118152906089858, -1.3573712185705162) 367.5558134444109\n",
      "(-0.9631142125668292, 0.040470825919993736, -1.4118152906089858, -1.3573712185705162) 2989.040279878418\n",
      "(-0.06311421256682914, 0.040470825919993736, -1.4118152906089858, -1.3573712185705162) 459.0990459982629\n",
      "(1.036885787433171, 0.040470825919993736, -1.4118152906089858, -1.3573712185705162) 1248.8687933732624\n",
      "(0.03688578743317087, -0.9595291740800063, -1.4118152906089858, -1.3573712185705162) 3700.3236186334893\n",
      "(0.03688578743317087, -0.05952917408000627, -1.4118152906089858, -1.3573712185705162) 472.3267844176442\n",
      "(0.03688578743317087, 1.0404708259199937, -1.4118152906089858, -1.3573712185705162) 1489.2481973298004\n",
      "(0.03688578743317087, 0.040470825919993736, -2.4118152906089856, -1.3573712185705162) 1249.8527283298927\n",
      "(0.03688578743317087, 0.040470825919993736, -1.511815290608986, -1.3573712185705162) 450.70615192834566\n",
      "(0.03688578743317087, 0.040470825919993736, -0.4118152906089858, -1.3573712185705162) 3068.1565543173433\n",
      "(0.03688578743317087, 0.040470825919993736, -1.4118152906089858, -2.357371218570516) 1297.0796637081598\n",
      "(0.03688578743317087, 0.040470825919993736, -1.4118152906089858, -1.4573712185705163) 449.58533858733233\n",
      "(0.03688578743317087, 0.040470825919993736, -1.4118152906089858, -0.35737121857051624) 3220.846119112499\n"
     ]
    }
   ],
   "source": [
    "np.random.seed(9868)\n",
    "\n",
    "params_vec = [(mu12, mu22, sigma11, sigma22),\n",
    "              (mu12-1, mu22, sigma11, sigma22), (mu12-0.1, mu22, sigma11, sigma22), (mu12+1, mu22, sigma11, sigma22),\n",
    "              (mu12, mu22-1, sigma11, sigma22), (mu12, mu22-0.1, sigma11, sigma22), (mu12, mu22+1, sigma11, sigma22),\n",
    "              (mu12, mu22, sigma11-1, sigma22), (mu12, mu22, sigma11-0.1, sigma22), (mu12, mu22, sigma11+1, sigma22),\n",
    "              (mu12, mu22, sigma11, sigma22-1), (mu12, mu22, sigma11, sigma22-0.1), (mu12, mu22, sigma11, sigma22+1)]\n",
    "for i in params_vec:\n",
    "    print(i, loss_function(i))"
   ]
  },
  {
   "cell_type": "markdown",
   "id": "996c2420",
   "metadata": {},
   "source": [
    "We can iterate the optimisation 5 times and see the results."
   ]
  },
  {
   "cell_type": "code",
   "execution_count": 12,
   "id": "d801f39a",
   "metadata": {
    "scrolled": true
   },
   "outputs": [
    {
     "name": "stdout",
     "output_type": "stream",
     "text": [
      "0\n",
      "2021-08-02 07:08:33.615586\n",
      "Optimization terminated successfully.\n",
      "         Current function value: 373.840778\n",
      "         Iterations: 5\n",
      "         Function evaluations: 550\n",
      "[ 0.04101569  0.03385951 -1.4267374  -1.37696077]\n",
      "1:05:38.864415\n",
      "return_mean1    101.074143\n",
      "return_mean2    116.595122\n",
      "return_sd1       77.156035\n",
      "return_sd2       84.576963\n",
      "dtype: float64\n",
      "1\n",
      "2021-08-02 08:14:19.686351\n",
      "Optimization terminated successfully.\n",
      "         Current function value: 372.985256\n",
      "         Iterations: 3\n",
      "         Function evaluations: 296\n",
      "[ 0.03988846  0.04496587 -1.41756241 -1.35662359]\n",
      "0:35:42.002614\n",
      "return_mean1    103.428601\n",
      "return_mean2    115.428949\n",
      "return_sd1       78.375869\n",
      "return_sd2       84.060506\n",
      "dtype: float64\n",
      "2\n",
      "2021-08-02 08:50:09.262482\n",
      "Optimization terminated successfully.\n",
      "         Current function value: 371.501960\n",
      "         Iterations: 3\n",
      "         Function evaluations: 298\n",
      "[ 0.05255533  0.02772155 -1.42535423 -1.36684654]\n",
      "1:12:54.647964\n",
      "return_mean1    104.580100\n",
      "return_mean2    115.284276\n",
      "return_sd1       77.885430\n",
      "return_sd2       84.012913\n",
      "dtype: float64\n",
      "3\n",
      "2021-08-02 10:03:11.190237\n",
      "Optimization terminated successfully.\n",
      "         Current function value: 375.872873\n",
      "         Iterations: 6\n",
      "         Function evaluations: 662\n",
      "[ 0.01869175  0.03506931 -1.4214776  -1.36114551]\n",
      "1:19:59.060414\n",
      "return_mean1    103.991945\n",
      "return_mean2    113.395112\n",
      "return_sd1       79.243400\n",
      "return_sd2       81.367206\n",
      "dtype: float64\n",
      "4\n",
      "2021-08-02 11:23:18.279069\n",
      "Optimization terminated successfully.\n",
      "         Current function value: 372.096582\n",
      "         Iterations: 4\n",
      "         Function evaluations: 427\n",
      "[ 0.03842067  0.04495263 -1.41252319 -1.36119187]\n",
      "0:51:21.485252\n",
      "return_mean1    102.861709\n",
      "return_mean2    111.835422\n",
      "return_sd1       75.187750\n",
      "return_sd2       79.353029\n",
      "dtype: float64\n"
     ]
    }
   ],
   "source": [
    "np.random.seed(9868)\n",
    "initial0 = [1, 1, 1, 1]\n",
    "results = []\n",
    "\n",
    "for num_iter in range(5):\n",
    "    \n",
    "    # look at the ith iteration\n",
    "    print(num_iter)\n",
    "\n",
    "    begin_time = datetime.datetime.now()\n",
    "    print(begin_time)\n",
    "    \n",
    "    # look at the results of the optimisation\n",
    "    res = minimize(loss_function, initial0, method='Powell', tol=1e-6, options={'disp': True})\n",
    "    print(res.x)\n",
    "    \n",
    "    # look at the time consumed\n",
    "    time = datetime.datetime.now() - begin_time\n",
    "    print(time)\n",
    "    \n",
    "    # look at the losses of moments\n",
    "    moment_loss = pd.DataFrame().reindex_like(n_real_stats)\n",
    "    randseed = np.random.randint(low=0, high=1000000, size=(1,))\n",
    "    n_sim_log_price = n_ou_simulation(\n",
    "            random_seed=int(randseed), num_sim=num_sim,\n",
    "            mu11=mu11, mu12=params[0], mu21=mu21, mu22=params[1],\n",
    "            sigma11=params[2], sigma12=sigma12, sigma21=sigma21, sigma22=params[3],\n",
    "            xinit=xinit, T0=T0, T=T, length=length)\n",
    "\n",
    "    n_sim_price = log_price_to_price(n_sim_log_price)\n",
    "    n_sim_return = price_to_return(n_sim_price)\n",
    "    n_sim_stats = cal_stats(n_sim_return)\n",
    "\n",
    "    for i in range(n_real_stats.shape[0]):\n",
    "        for j in range(n_real_stats.shape[1]):\n",
    "            moment_loss.iloc[i, j] = np.sqrt((n_real_stats.iloc[i, j] - n_sim_stats.iloc[i, j])**2)\n",
    "\n",
    "    sum_all = np.sum(moment_loss)\n",
    "    print(sum_all)\n",
    "    \n",
    "    results.append([res.x, time, sum_all])"
   ]
  },
  {
   "cell_type": "markdown",
   "id": "2a81dcf0",
   "metadata": {},
   "source": [
    "See the mean and standard deviation of the optimisation results."
   ]
  },
  {
   "cell_type": "code",
   "execution_count": 13,
   "id": "0ad7634f",
   "metadata": {},
   "outputs": [
    {
     "name": "stdout",
     "output_type": "stream",
     "text": [
      "0    0.038114\n",
      "1    0.037314\n",
      "2   -1.420731\n",
      "3   -1.364554\n",
      "dtype: float64\n",
      "0    0.012221\n",
      "1    0.007515\n",
      "2    0.005818\n",
      "3    0.007826\n",
      "dtype: float64\n"
     ]
    }
   ],
   "source": [
    "results_res = []\n",
    "results_time = []\n",
    "results_sum_all = []\n",
    "for i in results:\n",
    "    results_res.append(i[0])\n",
    "    results_time.append(i[1])\n",
    "    results_sum_all.append(i[2])\n",
    "\n",
    "res_mean = pd.DataFrame(results_res).mean(axis=0)\n",
    "res_std  = pd.DataFrame(results_res).std(axis=0)\n",
    "print(res_mean)\n",
    "print(res_std)"
   ]
  },
  {
   "cell_type": "code",
   "execution_count": 14,
   "id": "9fdcec01",
   "metadata": {},
   "outputs": [
    {
     "data": {
      "text/html": [
       "\n",
       "        <span>FloatVector with 4 elements.</span>\n",
       "        <table>\n",
       "        <tbody>\n",
       "          <tr>\n",
       "          \n",
       "            <td>\n",
       "            0.036886\n",
       "            </td>\n",
       "          \n",
       "            <td>\n",
       "            0.040471\n",
       "            </td>\n",
       "          \n",
       "            <td>\n",
       "            -1.411815\n",
       "            </td>\n",
       "          \n",
       "            <td>\n",
       "            -1.357371\n",
       "            </td>\n",
       "          \n",
       "          </tr>\n",
       "        </tbody>\n",
       "        </table>\n",
       "        "
      ],
      "text/plain": [
       "<rpy2.robjects.vectors.FloatVector object at 0x7faed49a1d20> [RTYPES.REALSXP]\n",
       "R classes: ('numeric',)\n",
       "[0.036886, 0.040471, -1.411815, -1.357371]"
      ]
     },
     "execution_count": 14,
     "metadata": {},
     "output_type": "execute_result"
    }
   ],
   "source": [
    "params"
   ]
  }
 ],
 "metadata": {
  "kernelspec": {
   "display_name": "Python 3",
   "language": "python",
   "name": "python3"
  },
  "language_info": {
   "codemirror_mode": {
    "name": "ipython",
    "version": 3
   },
   "file_extension": ".py",
   "mimetype": "text/x-python",
   "name": "python",
   "nbconvert_exporter": "python",
   "pygments_lexer": "ipython3",
   "version": "3.7.10"
  }
 },
 "nbformat": 4,
 "nbformat_minor": 5
}
